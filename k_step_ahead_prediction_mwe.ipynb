{
 "cells": [
  {
   "cell_type": "code",
   "execution_count": 1,
   "id": "626bc88c",
   "metadata": {},
   "outputs": [],
   "source": [
    "import numpy as np\n",
    "from particles.state_space_models import StochVol, Bootstrap\n",
    "from particles import SMC\n",
    "from particles_cdssm.collectors import NLPD, ObservationPredictiveParticles, ObservationPredictiveMoments"
   ]
  },
  {
   "cell_type": "markdown",
   "id": "538dfde8",
   "metadata": {},
   "source": [
    "I have developed some new `collectors` that you can feed as inputs to the SMC algorithm, to store a representation of the k-step ahead prediction $Y_{t+k}|Y_{1:t}$ online witha particle filter. To use them, you will need to get the import above from the `particles_cdssm` package to work. Minimum working example of usage is presented below:  "
   ]
  },
  {
   "cell_type": "code",
   "execution_count": null,
   "id": "5cabe40f",
   "metadata": {},
   "outputs": [],
   "source": [
    "# Default choice of params: in practice we will change to the ones you obtain from using the PMMH to infer the params:\n",
    "sv_params = {\"mu\": -1.02, \"rho\": 0.9702, \"sigma\": 0.178}\n",
    "ssm = StochVol(**sv_params)\n",
    "\n",
    "# I'm using simulated data here - replace it with the S&P 500 data that you have.\n",
    "# Include both the training data and the test data at this point:\n",
    "T = 400\n",
    "x, y = ssm.simulate(T)\n",
    "\n",
    "# Create bootstrap Feynman-Kac model from the inputs:\n",
    "fk = Bootstrap(ssm, data=y)\n",
    "\n",
    "# Define the 'collector' in the following way: parameter K detmerines the number of steps ahead that we want to predict: \n",
    "col = ObservationPredictiveParticles(K=1)\n",
    "\n",
    "# Here are 2 other examples that may be helpful: have look in particles_cdssm/collectors.py at the docstrings for more details:\n",
    "# col = ObservationPredictiveMoments(K=1)\n",
    "# col = NLPD(K=1)\n",
    "\n",
    "# Call SMC in the following way to store full particle estimates of the 1-step ahead returns:\n",
    "N=1000 # Number of particles: increase to improve accuracy of the inference.\n",
    "smc_algo = SMC(fk=fk, N=1000, collect=[col], store_history=True)\n",
    "\n",
    "smc_algo.run()"
   ]
  },
  {
   "cell_type": "code",
   "execution_count": null,
   "id": "e9aecf3d",
   "metadata": {},
   "outputs": [],
   "source": [
    "# After running the SMC, you will have seen that you can access the full particle estimtes of the filtering distribution in the following way:\n",
    "\n",
    "# List of the particles at each time step:\n",
    "smc_algo.hist.X\n",
    "# List of the weights at each time step:\n",
    "smc_algo.hist.wgts\n",
    "# Or, the following command for the first and second moments:\n",
    "# smc_algo.summaries.moments\n",
    "\n",
    "# After runnning the above, you can now access the K-step ahead predictive distribution, via:\n",
    "predictions = smc_algo.summaries.obs_predictive_particles\n",
    "\n",
    "# (alternatives for the other 2 predictive collectors):\n",
    "# pred = smc_algo.summaries.obs_predictive_moments\n",
    "# pred = smc_algo.summaries.nlpd"
   ]
  },
  {
   "cell_type": "markdown",
   "id": "79749cbb",
   "metadata": {},
   "source": [
    "We can use NLPD (negative log predictive density) and CRPS (Continuous-Ranked Probability score) to evaluate the predictive uncertainty quantification of the model that we fitted, out of sample. Also, have a look in `particles_cdssm/collectors.py` for more details on what is going on."
   ]
  },
  {
   "cell_type": "markdown",
   "id": "d8f07fb7",
   "metadata": {},
   "source": []
  }
 ],
 "metadata": {
  "kernelspec": {
   "display_name": "diffusions",
   "language": "python",
   "name": "python3"
  },
  "language_info": {
   "codemirror_mode": {
    "name": "ipython",
    "version": 3
   },
   "file_extension": ".py",
   "mimetype": "text/x-python",
   "name": "python",
   "nbconvert_exporter": "python",
   "pygments_lexer": "ipython3",
   "version": "3.11.12"
  }
 },
 "nbformat": 4,
 "nbformat_minor": 5
}
