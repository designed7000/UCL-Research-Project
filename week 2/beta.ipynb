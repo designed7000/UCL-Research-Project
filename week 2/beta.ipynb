{
 "cells": [
  {
   "cell_type": "code",
   "execution_count": 5,
   "id": "72f2490c",
   "metadata": {},
   "outputs": [
    {
     "name": "stdout",
     "output_type": "stream",
     "text": [
      "✅ Added to Python path: /Users/ac/Desktop/diss_scripts/GITHooo/UCL-Research-Project/particles-cdssm\n",
      "✅ Successfully imported particles_cdssm collectors!\n",
      "✅ ObservationPredictiveMoments works!\n",
      "✅ NLPD works!\n",
      "✅ ObservationPredictiveParticles works!\n"
     ]
    }
   ],
   "source": [
    "import sys\n",
    "import os\n",
    "\n",
    "# Correct path based on the search results\n",
    "particles_cdssm_path = \"/Users/ac/Desktop/diss_scripts/GITHooo/UCL-Research-Project/particles-cdssm\"\n",
    "\n",
    "# Add to Python path\n",
    "if particles_cdssm_path not in sys.path:\n",
    "    sys.path.insert(0, particles_cdssm_path)\n",
    "    print(f\"✅ Added to Python path: {particles_cdssm_path}\")\n",
    "\n",
    "# Test the import\n",
    "try:\n",
    "    from particles_cdssm.collectors import NLPD, ObservationPredictiveParticles, ObservationPredictiveMoments\n",
    "    print(\"✅ Successfully imported particles_cdssm collectors!\")\n",
    "    \n",
    "    # Test creating the collectors\n",
    "    test_collector = ObservationPredictiveMoments(K=1)\n",
    "    print(\"✅ ObservationPredictiveMoments works!\")\n",
    "    \n",
    "    test_nlpd = NLPD(K=1)\n",
    "    print(\"✅ NLPD works!\")\n",
    "    \n",
    "    test_particles = ObservationPredictiveParticles(K=1)\n",
    "    print(\"✅ ObservationPredictiveParticles works!\")\n",
    "    \n",
    "except ImportError as e:\n",
    "    print(f\"❌ Import failed: {e}\")\n",
    "    \n",
    "    # Let's check what's actually in the particles_cdssm folder\n",
    "    particles_module_path = os.path.join(particles_cdssm_path, \"particles_cdssm\")\n",
    "    print(f\"Contents of particles_cdssm module: {os.listdir(particles_module_path)}\")\n",
    "    \n",
    "    # Check if collectors.py exists\n",
    "    collectors_file = os.path.join(particles_module_path, \"collectors.py\")\n",
    "    print(f\"collectors.py exists: {os.path.exists(collectors_file)}\")"
   ]
  },
  {
   "cell_type": "markdown",
   "id": "538dfde8",
   "metadata": {},
   "source": [
    "I have developed some new `collectors` that you can feed as inputs to the SMC algorithm, to store a representation of the k-step ahead prediction $Y_{t+k}|Y_{1:t}$ online witha particle filter. To use them, you will need to get the import above from the `particles_cdssm` package to work. Minimum working example of usage is presented below:  "
   ]
  },
  {
   "cell_type": "code",
   "execution_count": null,
   "id": "5cabe40f",
   "metadata": {},
   "outputs": [],
   "source": [
    "# Default choice of params: in practice we will change to the ones you obtain from using the PMMH to infer the params:\n",
    "sv_params = {\"mu\": -1.02, \"rho\": 0.9702, \"sigma\": 0.178}\n",
    "ssm = StochVol(**sv_params)\n",
    "\n",
    "# I'm using simulated data here - replace it with the S&P 500 data that you have.\n",
    "# Include both the training data and the test data at this point:\n",
    "T = 400\n",
    "x, y = ssm.simulate(T)\n",
    "\n",
    "# Create bootstrap Feynman-Kac model from the inputs:\n",
    "fk = Bootstrap(ssm, data=y)\n",
    "\n",
    "# Define the 'collector' in the following way: parameter K detmerines the number of steps ahead that we want to predict: \n",
    "col = ObservationPredictiveParticles(K=1)\n",
    "\n",
    "# Here are 2 other examples that may be helpful: have look in particles_cdssm/collectors.py at the docstrings for more details:\n",
    "# col = ObservationPredictiveMoments(K=1)\n",
    "# col = NLPD(K=1)\n",
    "\n",
    "# Call SMC in the following way to store full particle estimates of the 1-step ahead returns:\n",
    "N=1000 # Number of particles: increase to improve accuracy of the inference.\n",
    "smc_algo = SMC(fk=fk, N=1000, collect=[col], store_history=True)\n",
    "\n",
    "smc_algo.run()"
   ]
  },
  {
   "cell_type": "code",
   "execution_count": null,
   "id": "e9aecf3d",
   "metadata": {},
   "outputs": [],
   "source": [
    "# After running the SMC, you will have seen that you can access the full particle estimtes of the filtering distribution in the following way:\n",
    "\n",
    "# List of the particles at each time step:\n",
    "smc_algo.hist.X\n",
    "# List of the weights at each time step:\n",
    "smc_algo.hist.wgts\n",
    "# Or, the following command for the first and second moments:\n",
    "# smc_algo.summaries.moments\n",
    "\n",
    "# After runnning the above, you can now access the K-step ahead predictive distribution, via:\n",
    "predictions = smc_algo.summaries.obs_predictive_particles\n",
    "\n",
    "# (alternatives for the other 2 predictive collectors):\n",
    "# pred = smc_algo.summaries.obs_predictive_moments\n",
    "# pred = smc_algo.summaries.nlpd"
   ]
  },
  {
   "cell_type": "markdown",
   "id": "79749cbb",
   "metadata": {},
   "source": [
    "We can use NLPD (negative log predictive density) and CRPS (Continuous-Ranked Probability score) to evaluate the predictive uncertainty quantification of the model that we fitted, out of sample. Also, have a look in `particles_cdssm/collectors.py` for more details on what is going on."
   ]
  },
  {
   "cell_type": "markdown",
   "id": "d8f07fb7",
   "metadata": {},
   "source": []
  },
  {
   "cell_type": "markdown",
   "id": "50dfa4d2",
   "metadata": {},
   "source": [
    "# My Code"
   ]
  },
  {
   "cell_type": "code",
   "execution_count": 2,
   "id": "9fc07f97",
   "metadata": {},
   "outputs": [
    {
     "name": "stdout",
     "output_type": "stream",
     "text": [
      "✅ All imports successful!\n",
      "📊 Fetching S&P 500 data from 2023-01-01 to 2024-11-01...\n",
      "YF.download() has changed argument auto_adjust default to True\n",
      "✓ Downloaded 460 trading days\n",
      "✓ Return statistics: Mean=0.087%, Std=0.81%\n",
      "📈 Data loaded: 460 returns from 2023-01-04 00:00:00 to 2024-10-31 00:00:00\n"
     ]
    }
   ],
   "source": [
    "# Complete imports including missing ones\n",
    "import sys\n",
    "import os\n",
    "import numpy as np\n",
    "import pandas as pd\n",
    "import yfinance as yf\n",
    "import matplotlib.pyplot as plt\n",
    "from scipy import stats\n",
    "from tqdm import tqdm\n",
    "\n",
    "# Add particles_cdssm to path\n",
    "particles_cdssm_path = \"/Users/ac/Desktop/diss_scripts/GITHooo/UCL-Research-Project/particles-cdssm\"\n",
    "if particles_cdssm_path not in sys.path:\n",
    "    sys.path.insert(0, particles_cdssm_path)\n",
    "\n",
    "# Particles imports\n",
    "import particles\n",
    "from particles import state_space_models as ssm  # This was missing!\n",
    "from particles.state_space_models import StochVol, Bootstrap\n",
    "from particles import SMC\n",
    "from particles_cdssm.collectors import NLPD, ObservationPredictiveParticles, ObservationPredictiveMoments\n",
    "\n",
    "print(\"✅ All imports successful!\")\n",
    "\n",
    "# 3. Load S&P 500 data\n",
    "def fetch_sp500_data(start_date=\"2023-01-01\", end_date=\"2024-11-01\"):\n",
    "    \"\"\"\n",
    "    Fetch S&P 500 data and compute returns\n",
    "    \"\"\"\n",
    "    print(f\"📊 Fetching S&P 500 data from {start_date} to {end_date}...\")\n",
    "    \n",
    "    ticker = \"^GSPC\"\n",
    "    data = yf.download(ticker, start=start_date, end=end_date, progress=False)\n",
    "    data['Returns'] = np.log(data['Close'] / data['Close'].shift(1)) * 100\n",
    "    data = data.dropna()\n",
    "    \n",
    "    print(f\"✓ Downloaded {len(data)} trading days\")\n",
    "    print(f\"✓ Return statistics: Mean={data['Returns'].mean():.3f}%, Std={data['Returns'].std():.2f}%\")\n",
    "    \n",
    "    return data\n",
    "\n",
    "# Load the data\n",
    "data = fetch_sp500_data()\n",
    "returns = data['Returns']\n",
    "\n",
    "print(f\"📈 Data loaded: {len(returns)} returns from {returns.index[0]} to {returns.index[-1]}\")"
   ]
  },
  {
   "cell_type": "code",
   "execution_count": null,
   "id": "18ddc6cc",
   "metadata": {},
   "outputs": [],
   "source": [
    "def bayesian_parameter_estimation_fixed(returns, n_iter=2000, n_burn=500):\n",
    "   \"\"\"\n",
    "   Bayesian parameter estimation using Particle Marginal Metropolis-Hastings (PMMH) - FIXED\n",
    "   \"\"\"\n",
    "   print(f\"🎯 Running PMMH parameter estimation ({n_iter} iterations)...\")\n",
    "   \n",
    "   # Define parameter priors\n",
    "   class SVPrior:\n",
    "       def __init__(self):\n",
    "           # mu ~ N(-2.5, 1^2)  \n",
    "           self.mu_prior = stats.norm(loc=-2.5, scale=1.0)\n",
    "           # phi ~ Beta(20, 2) scaled to (0,1) for stationarity\n",
    "           self.phi_prior = stats.beta(a=20, b=2)\n",
    "           # sigma_x ~ InvGamma(3, 0.5) \n",
    "           self.sigma_x_prior = stats.invgamma(a=3, scale=0.5)\n",
    "           \n",
    "       def logpdf(self, theta):\n",
    "           mu, phi, sigma_x = theta\n",
    "           if not (0 < phi < 1 and sigma_x > 0):\n",
    "               return -np.inf\n",
    "           return (self.mu_prior.logpdf(mu) + \n",
    "                  self.phi_prior.logpdf(phi) +\n",
    "                  self.sigma_x_prior.logpdf(sigma_x))\n",
    "   \n",
    "   # PMMH sampler\n",
    "   class PMMHPosterior:\n",
    "       def __init__(self, data):\n",
    "           self.data = data\n",
    "           self.prior = SVPrior()\n",
    "           \n",
    "       def logpdf(self, theta):\n",
    "           mu, phi, sigma_x = theta\n",
    "           \n",
    "           # Prior\n",
    "           log_prior = self.prior.logpdf(theta)\n",
    "           if np.isinf(log_prior):\n",
    "               return log_prior\n",
    "               \n",
    "           # Likelihood via particle filter with trajectory sampling\n",
    "           try:\n",
    "               model = StochasticVolatilityModel(mu=mu, phi=phi, sigma_x=sigma_x)\n",
    "               fk = ssm.Bootstrap(ssm=model, data=self.data)\n",
    "               pf = particles.SMC(fk=fk, N=100, store_history=True)\n",
    "               pf.run()\n",
    "               \n",
    "               # PMMH: Sample trajectory from particle filter\n",
    "               if pf.hist is not None:\n",
    "                   try:\n",
    "                       # Backward sampling for trajectory (key PMMH component)\n",
    "                       paths = pf.hist.backward_sampling(M=1)\n",
    "                       log_likelihood = pf.logLt\n",
    "                   except:\n",
    "                       log_likelihood = pf.logLt\n",
    "               else:\n",
    "                   log_likelihood = pf.logLt\n",
    "               \n",
    "               return log_prior + log_likelihood\n",
    "           except:\n",
    "               return -np.inf\n",
    "   \n",
    "   # Run PMMH\n",
    "   y_data = returns.values\n",
    "   posterior = PMMHPosterior(y_data)\n",
    "   \n",
    "   # Initial value\n",
    "   theta0 = np.array([-2.5, 0.95, 0.3])\n",
    "   \n",
    "   # PMMH chain with progress tracking\n",
    "   print(\"🔗 Running PMMH chain...\")\n",
    "   chain = []\n",
    "   current_theta = theta0\n",
    "   current_logpdf = posterior.logpdf(current_theta)\n",
    "   n_accept = 0\n",
    "   \n",
    "   # Proposal covariance (tuned)\n",
    "   prop_cov = np.diag([0.1, 0.01, 0.02])**2\n",
    "   \n",
    "   # Progress bar - FIXED LINE\n",
    "   with tqdm(total=n_iter, desc=\"PMMH Sampling\", unit=\"iter\") as pbar:\n",
    "       \n",
    "       for i in range(n_iter):\n",
    "           # Propose new state\n",
    "           proposal = np.random.multivariate_normal(current_theta, prop_cov)\n",
    "           proposal_logpdf = posterior.logpdf(proposal)\n",
    "           \n",
    "           # Accept/reject (PMMH step)\n",
    "           if not np.isinf(proposal_logpdf):\n",
    "               log_alpha = proposal_logpdf - current_logpdf\n",
    "               if np.log(np.random.rand()) < log_alpha:\n",
    "                   current_theta = proposal\n",
    "                   current_logpdf = proposal_logpdf\n",
    "                   n_accept += 1\n",
    "           \n",
    "           chain.append(current_theta.copy())\n",
    "           \n",
    "           # Update progress bar - FIXED: Use proper dictionary format\n",
    "           if i % 10 == 0:\n",
    "               acceptance_rate = n_accept / (i + 1)\n",
    "               pbar.set_postfix({\"Acc\": f\"{acceptance_rate:.1%}\"})  # FIXED LINE!\n",
    "           pbar.update(1)\n",
    "   \n",
    "   print(f\"✓ PMMH completed. Acceptance rate: {n_accept/n_iter:.2%}\")\n",
    "   \n",
    "   # Process results\n",
    "   chain = np.array(chain)\n",
    "   burned_chain = chain[n_burn:]\n",
    "   \n",
    "   # Parameter estimates\n",
    "   param_estimates = {\n",
    "       'mu': {'mean': np.mean(burned_chain[:, 0]), 'std': np.std(burned_chain[:, 0])},\n",
    "       'phi': {'mean': np.mean(burned_chain[:, 1]), 'std': np.std(burned_chain[:, 1])},\n",
    "       'sigma_x': {'mean': np.mean(burned_chain[:, 2]), 'std': np.std(burned_chain[:, 2])}\n",
    "   }\n",
    "   \n",
    "   return {\n",
    "       'chain': chain,\n",
    "       'burned_chain': burned_chain,\n",
    "       'estimates': param_estimates,\n",
    "       'acceptance_rate': n_accept/n_iter\n",
    "   }"
   ]
  },
  {
   "cell_type": "code",
   "execution_count": 27,
   "id": "5c000754",
   "metadata": {},
   "outputs": [
    {
     "name": "stdout",
     "output_type": "stream",
     "text": [
      "🚀 Starting Stochastic Volatility Cross-Validation Pipeline\n",
      "📊 Fetching S&P 500 data from 2023-01-01 to 2024-11-01...\n",
      "✓ Downloaded 460 trading days\n",
      "✓ Return statistics: Mean=0.087%, Std=0.81%\n",
      "\n",
      "============================================================\n",
      "METHOD 1: Simplified Cross-Validation (Fixed Parameters)\n",
      "============================================================\n",
      "🔄 Starting Simplified Cross-Validation\n",
      "Using fixed parameters: {'mu': -1.0, 'rho': 0.95, 'sigma': 0.2}\n"
     ]
    },
    {
     "name": "stderr",
     "output_type": "stream",
     "text": [
      "Simple CV:  15%|█▍        | 6/41 [00:00<00:00, 59.21fold/s]"
     ]
    },
    {
     "name": "stdout",
     "output_type": "stream",
     "text": [
      "   Fold 1: Avg LL = -1.4836\n",
      "   Fold 2: Avg LL = -2.1700\n",
      "   Fold 3: Avg LL = -0.5831\n",
      "   Fold 4: Avg LL = -0.7628\n",
      "   Fold 5: Avg LL = -0.7827\n",
      "   Fold 6: Avg LL = -0.5954\n",
      "   Fold 7: Avg LL = -1.0302\n",
      "   Fold 8: Avg LL = -0.6575\n",
      "   Fold 9: Avg LL = -1.1548\n",
      "   Fold 10: Avg LL = -0.9398\n",
      "   Fold 11: Avg LL = -0.3812\n"
     ]
    },
    {
     "name": "stderr",
     "output_type": "stream",
     "text": [
      "Simple CV:  37%|███▋      | 15/41 [00:00<00:00, 75.38fold/s]"
     ]
    },
    {
     "name": "stdout",
     "output_type": "stream",
     "text": [
      "   Fold 12: Avg LL = -2.8316\n",
      "   Fold 13: Avg LL = -0.6920\n",
      "   Fold 14: Avg LL = -0.5846\n",
      "   Fold 15: Avg LL = -1.6198\n"
     ]
    },
    {
     "name": "stderr",
     "output_type": "stream",
     "text": [
      "Simple CV:  56%|█████▌    | 23/41 [00:00<00:00, 66.18fold/s]"
     ]
    },
    {
     "name": "stdout",
     "output_type": "stream",
     "text": [
      "   Fold 16: Avg LL = -1.6187\n",
      "   Fold 17: Avg LL = -1.3905\n",
      "   Fold 18: Avg LL = -0.8190\n",
      "   Fold 19: Avg LL = -0.8497\n",
      "   Fold 20: Avg LL = -0.7339\n",
      "   Fold 21: Avg LL = -1.2699\n",
      "   Fold 22: Avg LL = -1.4808\n",
      "   Fold 23: Avg LL = -2.9607\n",
      "   Fold 24: Avg LL = -0.7645\n",
      "   Fold 25: Avg LL = -1.1397\n",
      "   Fold 26: Avg LL = -1.1035\n"
     ]
    },
    {
     "name": "stderr",
     "output_type": "stream",
     "text": [
      "Simple CV:  73%|███████▎  | 30/41 [00:00<00:00, 55.83fold/s]"
     ]
    },
    {
     "name": "stdout",
     "output_type": "stream",
     "text": [
      "   Fold 27: Avg LL = -0.5986\n",
      "   Fold 28: Avg LL = -2.8174\n",
      "   Fold 29: Avg LL = -0.7205\n",
      "   Fold 30: Avg LL = -0.6327\n",
      "   Fold 31: Avg LL = -0.3639\n",
      "   Fold 32: Avg LL = -0.5850\n",
      "   Fold 33: Avg LL = -0.5089\n",
      "   Fold 34: Avg LL = -2.0140\n"
     ]
    },
    {
     "name": "stderr",
     "output_type": "stream",
     "text": [
      "Simple CV:  88%|████████▊ | 36/41 [00:00<00:00, 37.57fold/s]"
     ]
    },
    {
     "name": "stdout",
     "output_type": "stream",
     "text": [
      "   Fold 35: Avg LL = -0.8070\n",
      "   Fold 36: Avg LL = -3.1729\n"
     ]
    },
    {
     "name": "stderr",
     "output_type": "stream",
     "text": [
      "Simple CV: 100%|██████████| 41/41 [00:00<00:00, 43.49fold/s]"
     ]
    },
    {
     "name": "stdout",
     "output_type": "stream",
     "text": [
      "   Fold 37: Avg LL = -1.3720\n",
      "   Fold 38: Avg LL = -2.5689\n",
      "   Fold 39: Avg LL = -0.8709\n",
      "   Fold 40: Avg LL = -1.2909\n",
      "   Fold 41: Avg LL = -0.7524\n",
      "\n",
      "✅ Simple CV completed. Average Log-Likelihood: -1.2067\n"
     ]
    },
    {
     "name": "stderr",
     "output_type": "stream",
     "text": [
      "\n"
     ]
    },
    {
     "data": {
      "image/png": "[encoded data removed]",
      "text/plain": [
       "<Figure size 1500x1000 with 4 Axes>"
      ]
     },
     "metadata": {},
     "output_type": "display_data"
    },
    {
     "name": "stdout",
     "output_type": "stream",
     "text": [
      "\n",
      "============================================================\n",
      "METHOD 2: Full Cross-Validation (Parameter Estimation)\n",
      "============================================================\n",
      "🔄 Starting Leave-Future-Out Cross-Validation\n",
      "   📊 Total data points: 460\n",
      "   🚂 Min training size: 50\n",
      "   📈 Prediction horizon: 1 steps\n",
      "   🔢 Number of folds: 41\n",
      "------------------------------------------------------------\n"
     ]
    },
    {
     "name": "stderr",
     "output_type": "stream",
     "text": [
      "CV Folds:   0%|          | 0/41 [00:00<?, ?fold/s]"
     ]
    },
    {
     "name": "stdout",
     "output_type": "stream",
     "text": [
      "\n",
      "📁 Fold 1/41\n",
      "   🚂 Training: 2023-01-04 to 2023-03-16 (50 obs)\n",
      "   🧪 Testing:  2023-03-17 to 2023-03-17 (1 obs)\n",
      "   🎯 Estimating parameters...\n",
      "🎯 Running PMMH parameter estimation (200 iterations)...\n",
      "   📊 MLE initialization: μ=-2.500, φ=0.950, σ=0.300\n",
      "🔗 Running simplified MCMC chain...\n"
     ]
    },
    {
     "name": "stderr",
     "output_type": "stream",
     "text": [
      "MCMC Sampling: 100%|██████████| 200/200 [00:00<00:00, 11657.00iter/s, Acc=100.0%, Scale=0.072]"
     ]
    },
    {
     "name": "stdout",
     "output_type": "stream",
     "text": [
      "✓ MCMC completed. Acceptance rate: 100.00%\n",
      "   ✓ Estimated params: μ=-2.219, φ=0.785, σ=0.702\n",
      "   🔮 Generating predictions...\n",
      "   ❌ Fold 1 failed: unsupported operand type(s) for /: 'NoneType' and 'int'\n",
      "\n",
      "📁 Fold 2/41\n",
      "   🚂 Training: 2023-01-04 to 2023-03-30 (60 obs)\n",
      "   🧪 Testing:  2023-03-31 to 2023-03-31 (1 obs)\n",
      "   🎯 Estimating parameters...\n",
      "🎯 Running PMMH parameter estimation (200 iterations)...\n"
     ]
    },
    {
     "name": "stderr",
     "output_type": "stream",
     "text": [
      "\n"
     ]
    },
    {
     "name": "stdout",
     "output_type": "stream",
     "text": [
      "   📊 MLE initialization: μ=-2.500, φ=0.950, σ=0.300\n",
      "🔗 Running simplified MCMC chain...\n"
     ]
    },
    {
     "name": "stderr",
     "output_type": "stream",
     "text": [
      "MCMC Sampling: 100%|██████████| 200/200 [00:00<00:00, 13329.00iter/s, Acc=99.5%, Scale=0.072]"
     ]
    },
    {
     "name": "stdout",
     "output_type": "stream",
     "text": [
      "✓ MCMC completed. Acceptance rate: 99.50%\n",
      "   ✓ Estimated params: μ=-2.705, φ=0.787, σ=0.156\n",
      "   🔮 Generating predictions...\n",
      "   ❌ Fold 2 failed: unsupported operand type(s) for /: 'NoneType' and 'int'\n",
      "\n",
      "📁 Fold 3/41\n",
      "   🚂 Training: 2023-01-04 to 2023-04-14 (70 obs)\n",
      "   🧪 Testing:  2023-04-17 to 2023-04-17 (1 obs)\n",
      "   🎯 Estimating parameters...\n",
      "🎯 Running PMMH parameter estimation (200 iterations)...\n"
     ]
    },
    {
     "name": "stderr",
     "output_type": "stream",
     "text": [
      "\n"
     ]
    },
    {
     "name": "stdout",
     "output_type": "stream",
     "text": [
      "   📊 MLE initialization: μ=-2.500, φ=0.950, σ=0.300\n",
      "🔗 Running simplified MCMC chain...\n"
     ]
    },
    {
     "name": "stderr",
     "output_type": "stream",
     "text": [
      "MCMC Sampling: 100%|██████████| 200/200 [00:00<00:00, 12072.89iter/s, Acc=100.0%, Scale=0.072]"
     ]
    },
    {
     "name": "stdout",
     "output_type": "stream",
     "text": [
      "✓ MCMC completed. Acceptance rate: 100.00%\n",
      "   ✓ Estimated params: μ=-2.167, φ=0.513, σ=0.224\n",
      "   🔮 Generating predictions...\n",
      "   ❌ Fold 3 failed: unsupported operand type(s) for /: 'NoneType' and 'int'\n",
      "\n",
      "📁 Fold 4/41\n",
      "   🚂 Training: 2023-01-04 to 2023-04-28 (80 obs)\n",
      "   🧪 Testing:  2023-05-01 to 2023-05-01 (1 obs)\n",
      "   🎯 Estimating parameters...\n",
      "🎯 Running PMMH parameter estimation (200 iterations)...\n"
     ]
    },
    {
     "name": "stderr",
     "output_type": "stream",
     "text": [
      "\n"
     ]
    },
    {
     "name": "stdout",
     "output_type": "stream",
     "text": [
      "   📊 MLE initialization: μ=-2.500, φ=0.950, σ=0.300\n",
      "🔗 Running simplified MCMC chain...\n"
     ]
    },
    {
     "name": "stderr",
     "output_type": "stream",
     "text": [
      "MCMC Sampling: 100%|██████████| 200/200 [00:00<00:00, 10339.07iter/s, Acc=100.0%, Scale=0.072]"
     ]
    },
    {
     "name": "stdout",
     "output_type": "stream",
     "text": [
      "✓ MCMC completed. Acceptance rate: 100.00%\n",
      "   ✓ Estimated params: μ=-2.397, φ=0.876, σ=0.524\n",
      "   🔮 Generating predictions...\n",
      "   ❌ Fold 4 failed: unsupported operand type(s) for /: 'NoneType' and 'int'\n",
      "\n",
      "📁 Fold 5/41\n",
      "   🚂 Training: 2023-01-04 to 2023-05-12 (90 obs)\n",
      "   🧪 Testing:  2023-05-15 to 2023-05-15 (1 obs)\n",
      "   🎯 Estimating parameters...\n",
      "🎯 Running PMMH parameter estimation (200 iterations)...\n"
     ]
    },
    {
     "name": "stderr",
     "output_type": "stream",
     "text": [
      "\n"
     ]
    },
    {
     "name": "stdout",
     "output_type": "stream",
     "text": [
      "   📊 MLE initialization: μ=-2.500, φ=0.950, σ=0.300\n",
      "🔗 Running simplified MCMC chain...\n"
     ]
    },
    {
     "name": "stderr",
     "output_type": "stream",
     "text": [
      "MCMC Sampling: 100%|██████████| 200/200 [00:00<00:00, 8732.49iter/s, Acc=100.0%, Scale=0.072]"
     ]
    },
    {
     "name": "stdout",
     "output_type": "stream",
     "text": [
      "✓ MCMC completed. Acceptance rate: 100.00%\n",
      "   ✓ Estimated params: μ=-3.181, φ=0.617, σ=0.323\n",
      "   🔮 Generating predictions...\n",
      "   ❌ Fold 5 failed: unsupported operand type(s) for /: 'NoneType' and 'int'\n",
      "\n",
      "📁 Fold 6/41\n",
      "   🚂 Training: 2023-01-04 to 2023-05-26 (100 obs)\n",
      "   🧪 Testing:  2023-05-30 to 2023-05-30 (1 obs)\n",
      "   🎯 Estimating parameters...\n",
      "🎯 Running PMMH parameter estimation (200 iterations)...\n"
     ]
    },
    {
     "name": "stderr",
     "output_type": "stream",
     "text": [
      "\n"
     ]
    },
    {
     "name": "stdout",
     "output_type": "stream",
     "text": [
      "   📊 MLE initialization: μ=-2.500, φ=0.950, σ=0.300\n",
      "🔗 Running simplified MCMC chain...\n"
     ]
    },
    {
     "name": "stderr",
     "output_type": "stream",
     "text": [
      "MCMC Sampling: 100%|██████████| 200/200 [00:00<00:00, 10436.84iter/s, Acc=100.0%, Scale=0.072]"
     ]
    },
    {
     "name": "stdout",
     "output_type": "stream",
     "text": [
      "✓ MCMC completed. Acceptance rate: 100.00%\n",
      "   ✓ Estimated params: μ=-1.636, φ=0.765, σ=0.556\n",
      "   🔮 Generating predictions...\n",
      "   ❌ Fold 6 failed: unsupported operand type(s) for /: 'NoneType' and 'int'\n",
      "\n",
      "📁 Fold 7/41\n",
      "   🚂 Training: 2023-01-04 to 2023-06-12 (110 obs)\n",
      "   🧪 Testing:  2023-06-13 to 2023-06-13 (1 obs)\n",
      "   🎯 Estimating parameters...\n",
      "🎯 Running PMMH parameter estimation (200 iterations)...\n"
     ]
    },
    {
     "name": "stderr",
     "output_type": "stream",
     "text": [
      "\n"
     ]
    },
    {
     "name": "stdout",
     "output_type": "stream",
     "text": [
      "   📊 MLE initialization: μ=-2.500, φ=0.950, σ=0.300\n",
      "🔗 Running simplified MCMC chain...\n"
     ]
    },
    {
     "name": "stderr",
     "output_type": "stream",
     "text": [
      "MCMC Sampling: 100%|██████████| 200/200 [00:00<00:00, 8666.28iter/s, Acc=99.5%, Scale=0.072]\n"
     ]
    },
    {
     "name": "stdout",
     "output_type": "stream",
     "text": [
      "✓ MCMC completed. Acceptance rate: 99.50%\n",
      "   ✓ Estimated params: μ=-2.263, φ=0.576, σ=0.735\n",
      "   🔮 Generating predictions...\n",
      "   ❌ Fold 7 failed: unsupported operand type(s) for /: 'NoneType' and 'int'\n",
      "\n",
      "📁 Fold 8/41\n",
      "   🚂 Training: 2023-01-04 to 2023-06-27 (120 obs)\n",
      "   🧪 Testing:  2023-06-28 to 2023-06-28 (1 obs)\n",
      "   🎯 Estimating parameters...\n",
      "🎯 Running PMMH parameter estimation (200 iterations)...\n",
      "   📊 MLE initialization: μ=-2.500, φ=0.950, σ=0.300\n",
      "🔗 Running simplified MCMC chain...\n"
     ]
    },
    {
     "name": "stderr",
     "output_type": "stream",
     "text": [
      "MCMC Sampling: 100%|██████████| 200/200 [00:00<00:00, 14231.97iter/s, Acc=100.0%, Scale=0.072]"
     ]
    },
    {
     "name": "stdout",
     "output_type": "stream",
     "text": [
      "✓ MCMC completed. Acceptance rate: 100.00%\n",
      "   ✓ Estimated params: μ=-2.423, φ=0.540, σ=0.300\n",
      "   🔮 Generating predictions...\n",
      "   ❌ Fold 8 failed: unsupported operand type(s) for /: 'NoneType' and 'int'\n",
      "\n",
      "📁 Fold 9/41\n",
      "   🚂 Training: 2023-01-04 to 2023-07-12 (130 obs)\n",
      "   🧪 Testing:  2023-07-13 to 2023-07-13 (1 obs)\n",
      "   🎯 Estimating parameters...\n",
      "🎯 Running PMMH parameter estimation (200 iterations)...\n"
     ]
    },
    {
     "name": "stderr",
     "output_type": "stream",
     "text": [
      "\n"
     ]
    },
    {
     "name": "stdout",
     "output_type": "stream",
     "text": [
      "   📊 MLE initialization: μ=-2.500, φ=0.950, σ=0.300\n",
      "🔗 Running simplified MCMC chain...\n"
     ]
    },
    {
     "name": "stderr",
     "output_type": "stream",
     "text": [
      "MCMC Sampling: 100%|██████████| 200/200 [00:00<00:00, 5254.44iter/s, Acc=100.0%, Scale=0.072]"
     ]
    },
    {
     "name": "stdout",
     "output_type": "stream",
     "text": [
      "✓ MCMC completed. Acceptance rate: 100.00%\n",
      "   ✓ Estimated params: μ=-2.211, φ=0.660, σ=0.351\n",
      "   🔮 Generating predictions...\n",
      "   ❌ Fold 9 failed: unsupported operand type(s) for /: 'NoneType' and 'int'\n",
      "\n",
      "📁 Fold 10/41\n",
      "   🚂 Training: 2023-01-04 to 2023-07-26 (140 obs)\n",
      "   🧪 Testing:  2023-07-27 to 2023-07-27 (1 obs)\n",
      "   🎯 Estimating parameters...\n",
      "🎯 Running PMMH parameter estimation (200 iterations)...\n"
     ]
    },
    {
     "name": "stderr",
     "output_type": "stream",
     "text": [
      "\n"
     ]
    },
    {
     "name": "stdout",
     "output_type": "stream",
     "text": [
      "   📊 MLE initialization: μ=-2.500, φ=0.950, σ=0.300\n",
      "🔗 Running simplified MCMC chain...\n"
     ]
    },
    {
     "name": "stderr",
     "output_type": "stream",
     "text": [
      "MCMC Sampling: 100%|██████████| 200/200 [00:00<00:00, 9194.10iter/s, Acc=99.5%, Scale=0.072]"
     ]
    },
    {
     "name": "stdout",
     "output_type": "stream",
     "text": [
      "✓ MCMC completed. Acceptance rate: 99.50%\n",
      "   ✓ Estimated params: μ=-2.765, φ=0.322, σ=1.061\n",
      "   🔮 Generating predictions...\n",
      "   ❌ Fold 10 failed: unsupported operand type(s) for /: 'NoneType' and 'int'\n",
      "\n",
      "📁 Fold 11/41\n",
      "   🚂 Training: 2023-01-04 to 2023-08-09 (150 obs)\n",
      "   🧪 Testing:  2023-08-10 to 2023-08-10 (1 obs)\n",
      "   🎯 Estimating parameters...\n",
      "🎯 Running PMMH parameter estimation (200 iterations)...\n"
     ]
    },
    {
     "name": "stderr",
     "output_type": "stream",
     "text": [
      "\n"
     ]
    },
    {
     "name": "stdout",
     "output_type": "stream",
     "text": [
      "   📊 MLE initialization: μ=-2.500, φ=0.950, σ=0.300\n",
      "🔗 Running simplified MCMC chain...\n"
     ]
    },
    {
     "name": "stderr",
     "output_type": "stream",
     "text": [
      "MCMC Sampling: 100%|██████████| 200/200 [00:00<00:00, 14292.84iter/s, Acc=100.0%, Scale=0.072]"
     ]
    },
    {
     "name": "stdout",
     "output_type": "stream",
     "text": [
      "✓ MCMC completed. Acceptance rate: 100.00%\n",
      "   ✓ Estimated params: μ=-2.610, φ=0.651, σ=0.782\n",
      "   🔮 Generating predictions...\n",
      "   ❌ Fold 11 failed: unsupported operand type(s) for /: 'NoneType' and 'int'\n",
      "\n",
      "📁 Fold 12/41\n",
      "   🚂 Training: 2023-01-04 to 2023-08-23 (160 obs)\n",
      "   🧪 Testing:  2023-08-24 to 2023-08-24 (1 obs)\n",
      "   🎯 Estimating parameters...\n",
      "🎯 Running PMMH parameter estimation (200 iterations)...\n"
     ]
    },
    {
     "name": "stderr",
     "output_type": "stream",
     "text": [
      "\n"
     ]
    },
    {
     "name": "stdout",
     "output_type": "stream",
     "text": [
      "   📊 MLE initialization: μ=-2.500, φ=0.950, σ=0.300\n",
      "🔗 Running simplified MCMC chain...\n"
     ]
    },
    {
     "name": "stderr",
     "output_type": "stream",
     "text": [
      "MCMC Sampling: 100%|██████████| 200/200 [00:00<00:00, 7075.65iter/s, Acc=100.0%, Scale=0.072]"
     ]
    },
    {
     "name": "stdout",
     "output_type": "stream",
     "text": [
      "✓ MCMC completed. Acceptance rate: 100.00%\n",
      "   ✓ Estimated params: μ=-2.267, φ=0.479, σ=0.581\n",
      "   🔮 Generating predictions...\n",
      "   ❌ Fold 12 failed: unsupported operand type(s) for /: 'NoneType' and 'int'\n",
      "\n",
      "📁 Fold 13/41\n",
      "   🚂 Training: 2023-01-04 to 2023-09-07 (170 obs)\n",
      "   🧪 Testing:  2023-09-08 to 2023-09-08 (1 obs)\n",
      "   🎯 Estimating parameters...\n",
      "🎯 Running PMMH parameter estimation (200 iterations)...\n"
     ]
    },
    {
     "name": "stderr",
     "output_type": "stream",
     "text": [
      "\n"
     ]
    },
    {
     "name": "stdout",
     "output_type": "stream",
     "text": [
      "   📊 MLE initialization: μ=-2.500, φ=0.950, σ=0.300\n",
      "🔗 Running simplified MCMC chain...\n"
     ]
    },
    {
     "name": "stderr",
     "output_type": "stream",
     "text": [
      "MCMC Sampling: 100%|██████████| 200/200 [00:00<00:00, 10389.01iter/s, Acc=100.0%, Scale=0.072]"
     ]
    },
    {
     "name": "stdout",
     "output_type": "stream",
     "text": [
      "✓ MCMC completed. Acceptance rate: 100.00%\n",
      "   ✓ Estimated params: μ=-3.346, φ=0.548, σ=0.213\n",
      "   🔮 Generating predictions...\n",
      "   ❌ Fold 13 failed: unsupported operand type(s) for /: 'NoneType' and 'int'\n",
      "\n",
      "📁 Fold 14/41\n",
      "   🚂 Training: 2023-01-04 to 2023-09-21 (180 obs)\n",
      "   🧪 Testing:  2023-09-22 to 2023-09-22 (1 obs)\n",
      "   🎯 Estimating parameters...\n",
      "🎯 Running PMMH parameter estimation (200 iterations)...\n"
     ]
    },
    {
     "name": "stderr",
     "output_type": "stream",
     "text": [
      "\n"
     ]
    },
    {
     "name": "stdout",
     "output_type": "stream",
     "text": [
      "   📊 MLE initialization: μ=-2.500, φ=0.950, σ=0.300\n",
      "🔗 Running simplified MCMC chain...\n"
     ]
    },
    {
     "name": "stderr",
     "output_type": "stream",
     "text": [
      "MCMC Sampling: 100%|██████████| 200/200 [00:00<00:00, 12865.77iter/s, Acc=100.0%, Scale=0.072]"
     ]
    },
    {
     "name": "stdout",
     "output_type": "stream",
     "text": [
      "✓ MCMC completed. Acceptance rate: 100.00%\n",
      "   ✓ Estimated params: μ=-1.995, φ=0.637, σ=0.998\n",
      "   🔮 Generating predictions...\n",
      "   ❌ Fold 14 failed: unsupported operand type(s) for /: 'NoneType' and 'int'\n",
      "\n",
      "📁 Fold 15/41\n",
      "   🚂 Training: 2023-01-04 to 2023-10-05 (190 obs)\n",
      "   🧪 Testing:  2023-10-06 to 2023-10-06 (1 obs)\n",
      "   🎯 Estimating parameters...\n",
      "🎯 Running PMMH parameter estimation (200 iterations)...\n"
     ]
    },
    {
     "name": "stderr",
     "output_type": "stream",
     "text": [
      "\n"
     ]
    },
    {
     "name": "stdout",
     "output_type": "stream",
     "text": [
      "   📊 MLE initialization: μ=-2.500, φ=0.950, σ=0.300\n",
      "🔗 Running simplified MCMC chain...\n"
     ]
    },
    {
     "name": "stderr",
     "output_type": "stream",
     "text": [
      "MCMC Sampling: 100%|██████████| 200/200 [00:00<00:00, 10115.29iter/s, Acc=100.0%, Scale=0.072]"
     ]
    },
    {
     "name": "stdout",
     "output_type": "stream",
     "text": [
      "✓ MCMC completed. Acceptance rate: 100.00%\n",
      "   ✓ Estimated params: μ=-1.815, φ=0.622, σ=0.782\n",
      "   🔮 Generating predictions...\n",
      "   ❌ Fold 15 failed: unsupported operand type(s) for /: 'NoneType' and 'int'\n",
      "\n",
      "📁 Fold 16/41\n",
      "   🚂 Training: 2023-01-04 to 2023-10-19 (200 obs)\n",
      "   🧪 Testing:  2023-10-20 to 2023-10-20 (1 obs)\n",
      "   🎯 Estimating parameters...\n",
      "🎯 Running PMMH parameter estimation (200 iterations)...\n"
     ]
    },
    {
     "name": "stderr",
     "output_type": "stream",
     "text": [
      "\n"
     ]
    },
    {
     "name": "stdout",
     "output_type": "stream",
     "text": [
      "   📊 MLE initialization: μ=-2.500, φ=0.950, σ=0.300\n",
      "🔗 Running simplified MCMC chain...\n"
     ]
    },
    {
     "name": "stderr",
     "output_type": "stream",
     "text": [
      "MCMC Sampling: 100%|██████████| 200/200 [00:00<00:00, 13672.25iter/s, Acc=100.0%, Scale=0.072]"
     ]
    },
    {
     "name": "stdout",
     "output_type": "stream",
     "text": [
      "✓ MCMC completed. Acceptance rate: 100.00%\n",
      "   ✓ Estimated params: μ=-2.650, φ=0.338, σ=0.365\n",
      "   🔮 Generating predictions...\n",
      "   ❌ Fold 16 failed: unsupported operand type(s) for /: 'NoneType' and 'int'\n",
      "\n",
      "📁 Fold 17/41\n",
      "   🚂 Training: 2023-01-04 to 2023-11-02 (210 obs)\n",
      "   🧪 Testing:  2023-11-03 to 2023-11-03 (1 obs)\n",
      "   🎯 Estimating parameters...\n",
      "🎯 Running PMMH parameter estimation (200 iterations)...\n"
     ]
    },
    {
     "name": "stderr",
     "output_type": "stream",
     "text": [
      "\n"
     ]
    },
    {
     "name": "stdout",
     "output_type": "stream",
     "text": [
      "   📊 MLE initialization: μ=-2.500, φ=0.950, σ=0.300\n",
      "🔗 Running simplified MCMC chain...\n"
     ]
    },
    {
     "name": "stderr",
     "output_type": "stream",
     "text": [
      "MCMC Sampling: 100%|██████████| 200/200 [00:00<00:00, 10449.32iter/s, Acc=99.5%, Scale=0.072]"
     ]
    },
    {
     "name": "stdout",
     "output_type": "stream",
     "text": [
      "✓ MCMC completed. Acceptance rate: 99.50%\n",
      "   ✓ Estimated params: μ=-2.214, φ=0.360, σ=0.195\n",
      "   🔮 Generating predictions...\n",
      "   ❌ Fold 17 failed: unsupported operand type(s) for /: 'NoneType' and 'int'\n",
      "\n",
      "📁 Fold 18/41\n",
      "   🚂 Training: 2023-01-04 to 2023-11-16 (220 obs)\n",
      "   🧪 Testing:  2023-11-17 to 2023-11-17 (1 obs)\n",
      "   🎯 Estimating parameters...\n",
      "🎯 Running PMMH parameter estimation (200 iterations)...\n"
     ]
    },
    {
     "name": "stderr",
     "output_type": "stream",
     "text": [
      "\n"
     ]
    },
    {
     "name": "stdout",
     "output_type": "stream",
     "text": [
      "   📊 MLE initialization: μ=-2.500, φ=0.950, σ=0.300\n",
      "🔗 Running simplified MCMC chain...\n"
     ]
    },
    {
     "name": "stderr",
     "output_type": "stream",
     "text": [
      "MCMC Sampling: 100%|██████████| 200/200 [00:00<00:00, 12729.11iter/s, Acc=100.0%, Scale=0.072]"
     ]
    },
    {
     "name": "stdout",
     "output_type": "stream",
     "text": [
      "✓ MCMC completed. Acceptance rate: 100.00%\n",
      "   ✓ Estimated params: μ=-2.778, φ=0.676, σ=0.674\n",
      "   🔮 Generating predictions...\n",
      "   ❌ Fold 18 failed: unsupported operand type(s) for /: 'NoneType' and 'int'\n",
      "\n",
      "📁 Fold 19/41\n",
      "   🚂 Training: 2023-01-04 to 2023-12-01 (230 obs)\n",
      "   🧪 Testing:  2023-12-04 to 2023-12-04 (1 obs)\n",
      "   🎯 Estimating parameters...\n",
      "🎯 Running PMMH parameter estimation (200 iterations)...\n"
     ]
    },
    {
     "name": "stderr",
     "output_type": "stream",
     "text": [
      "\n"
     ]
    },
    {
     "name": "stdout",
     "output_type": "stream",
     "text": [
      "   📊 MLE initialization: μ=-2.500, φ=0.950, σ=0.300\n",
      "🔗 Running simplified MCMC chain...\n"
     ]
    },
    {
     "name": "stderr",
     "output_type": "stream",
     "text": [
      "MCMC Sampling: 100%|██████████| 200/200 [00:00<00:00, 3645.40iter/s, Acc=100.0%, Scale=0.072]"
     ]
    },
    {
     "name": "stdout",
     "output_type": "stream",
     "text": [
      "✓ MCMC completed. Acceptance rate: 100.00%\n",
      "   ✓ Estimated params: μ=-2.927, φ=0.230, σ=1.042\n",
      "   🔮 Generating predictions...\n",
      "   ❌ Fold 19 failed: unsupported operand type(s) for /: 'NoneType' and 'int'\n",
      "\n",
      "📁 Fold 20/41\n",
      "   🚂 Training: 2023-01-04 to 2023-12-15 (240 obs)\n",
      "   🧪 Testing:  2023-12-18 to 2023-12-18 (1 obs)\n",
      "   🎯 Estimating parameters...\n",
      "🎯 Running PMMH parameter estimation (200 iterations)...\n"
     ]
    },
    {
     "name": "stderr",
     "output_type": "stream",
     "text": [
      "\n"
     ]
    },
    {
     "name": "stdout",
     "output_type": "stream",
     "text": [
      "   📊 MLE initialization: μ=-2.500, φ=0.950, σ=0.300\n",
      "🔗 Running simplified MCMC chain...\n"
     ]
    },
    {
     "name": "stderr",
     "output_type": "stream",
     "text": [
      "MCMC Sampling: 100%|██████████| 200/200 [00:00<00:00, 12264.76iter/s, Acc=100.0%, Scale=0.072]"
     ]
    },
    {
     "name": "stdout",
     "output_type": "stream",
     "text": [
      "✓ MCMC completed. Acceptance rate: 100.00%\n",
      "   ✓ Estimated params: μ=-1.930, φ=0.738, σ=0.329\n",
      "   🔮 Generating predictions...\n",
      "   ❌ Fold 20 failed: unsupported operand type(s) for /: 'NoneType' and 'int'\n",
      "\n",
      "📁 Fold 21/41\n",
      "   🚂 Training: 2023-01-04 to 2024-01-02 (250 obs)\n",
      "   🧪 Testing:  2024-01-03 to 2024-01-03 (1 obs)\n",
      "   🎯 Estimating parameters...\n",
      "🎯 Running PMMH parameter estimation (200 iterations)...\n"
     ]
    },
    {
     "name": "stderr",
     "output_type": "stream",
     "text": [
      "\n"
     ]
    },
    {
     "name": "stdout",
     "output_type": "stream",
     "text": [
      "   📊 MLE initialization: μ=-2.500, φ=0.950, σ=0.300\n",
      "🔗 Running simplified MCMC chain...\n"
     ]
    },
    {
     "name": "stderr",
     "output_type": "stream",
     "text": [
      "MCMC Sampling: 100%|██████████| 200/200 [00:00<00:00, 10228.64iter/s, Acc=100.0%, Scale=0.072]"
     ]
    },
    {
     "name": "stdout",
     "output_type": "stream",
     "text": [
      "✓ MCMC completed. Acceptance rate: 100.00%\n",
      "   ✓ Estimated params: μ=-2.816, φ=0.839, σ=0.490\n",
      "   🔮 Generating predictions...\n",
      "   ❌ Fold 21 failed: unsupported operand type(s) for /: 'NoneType' and 'int'\n",
      "\n",
      "📁 Fold 22/41\n",
      "   🚂 Training: 2023-01-04 to 2024-01-17 (260 obs)\n",
      "   🧪 Testing:  2024-01-18 to 2024-01-18 (1 obs)\n",
      "   🎯 Estimating parameters...\n",
      "🎯 Running PMMH parameter estimation (200 iterations)...\n"
     ]
    },
    {
     "name": "stderr",
     "output_type": "stream",
     "text": [
      "\n"
     ]
    },
    {
     "name": "stdout",
     "output_type": "stream",
     "text": [
      "   📊 MLE initialization: μ=-2.500, φ=0.950, σ=0.300\n",
      "🔗 Running simplified MCMC chain...\n"
     ]
    },
    {
     "name": "stderr",
     "output_type": "stream",
     "text": [
      "MCMC Sampling: 100%|██████████| 200/200 [00:00<00:00, 11017.49iter/s, Acc=100.0%, Scale=0.072]"
     ]
    },
    {
     "name": "stdout",
     "output_type": "stream",
     "text": [
      "✓ MCMC completed. Acceptance rate: 100.00%\n",
      "   ✓ Estimated params: μ=-2.273, φ=0.862, σ=0.534\n",
      "   🔮 Generating predictions...\n",
      "   ❌ Fold 22 failed: unsupported operand type(s) for /: 'NoneType' and 'int'\n",
      "\n",
      "📁 Fold 23/41\n",
      "   🚂 Training: 2023-01-04 to 2024-01-31 (270 obs)\n",
      "   🧪 Testing:  2024-02-01 to 2024-02-01 (1 obs)\n",
      "   🎯 Estimating parameters...\n",
      "🎯 Running PMMH parameter estimation (200 iterations)...\n"
     ]
    },
    {
     "name": "stderr",
     "output_type": "stream",
     "text": [
      "\n"
     ]
    },
    {
     "name": "stdout",
     "output_type": "stream",
     "text": [
      "   📊 MLE initialization: μ=-2.500, φ=0.950, σ=0.300\n",
      "🔗 Running simplified MCMC chain...\n"
     ]
    },
    {
     "name": "stderr",
     "output_type": "stream",
     "text": [
      "MCMC Sampling: 100%|██████████| 200/200 [00:00<00:00, 15319.70iter/s, Acc=100.0%, Scale=0.072]"
     ]
    },
    {
     "name": "stdout",
     "output_type": "stream",
     "text": [
      "✓ MCMC completed. Acceptance rate: 100.00%\n",
      "   ✓ Estimated params: μ=-1.447, φ=0.732, σ=0.172\n",
      "   🔮 Generating predictions...\n",
      "   ❌ Fold 23 failed: unsupported operand type(s) for /: 'NoneType' and 'int'\n",
      "\n",
      "📁 Fold 24/41\n",
      "   🚂 Training: 2023-01-04 to 2024-02-14 (280 obs)\n",
      "   🧪 Testing:  2024-02-15 to 2024-02-15 (1 obs)\n",
      "   🎯 Estimating parameters...\n",
      "🎯 Running PMMH parameter estimation (200 iterations)...\n"
     ]
    },
    {
     "name": "stderr",
     "output_type": "stream",
     "text": [
      "\n"
     ]
    },
    {
     "name": "stdout",
     "output_type": "stream",
     "text": [
      "   📊 MLE initialization: μ=-2.500, φ=0.950, σ=0.300\n",
      "🔗 Running simplified MCMC chain...\n"
     ]
    },
    {
     "name": "stderr",
     "output_type": "stream",
     "text": [
      "MCMC Sampling: 100%|██████████| 200/200 [00:00<00:00, 15003.77iter/s, Acc=100.0%, Scale=0.072]"
     ]
    },
    {
     "name": "stdout",
     "output_type": "stream",
     "text": [
      "✓ MCMC completed. Acceptance rate: 100.00%\n",
      "   ✓ Estimated params: μ=-2.540, φ=0.657, σ=0.517\n",
      "   🔮 Generating predictions...\n",
      "   ❌ Fold 24 failed: unsupported operand type(s) for /: 'NoneType' and 'int'\n",
      "\n",
      "📁 Fold 25/41\n",
      "   🚂 Training: 2023-01-04 to 2024-02-29 (290 obs)\n",
      "   🧪 Testing:  2024-03-01 to 2024-03-01 (1 obs)\n",
      "   🎯 Estimating parameters...\n",
      "🎯 Running PMMH parameter estimation (200 iterations)...\n"
     ]
    },
    {
     "name": "stderr",
     "output_type": "stream",
     "text": [
      "\n"
     ]
    },
    {
     "name": "stdout",
     "output_type": "stream",
     "text": [
      "   📊 MLE initialization: μ=-2.500, φ=0.950, σ=0.300\n",
      "🔗 Running simplified MCMC chain...\n"
     ]
    },
    {
     "name": "stderr",
     "output_type": "stream",
     "text": [
      "MCMC Sampling: 100%|██████████| 200/200 [00:00<00:00, 8320.22iter/s, Acc=100.0%, Scale=0.072] "
     ]
    },
    {
     "name": "stdout",
     "output_type": "stream",
     "text": [
      "✓ MCMC completed. Acceptance rate: 100.00%\n",
      "   ✓ Estimated params: μ=-2.560, φ=0.180, σ=0.112\n",
      "   🔮 Generating predictions...\n",
      "   ❌ Fold 25 failed: unsupported operand type(s) for /: 'NoneType' and 'int'\n",
      "\n",
      "📁 Fold 26/41\n",
      "   🚂 Training: 2023-01-04 to 2024-03-14 (300 obs)\n",
      "   🧪 Testing:  2024-03-15 to 2024-03-15 (1 obs)\n",
      "   🎯 Estimating parameters...\n",
      "🎯 Running PMMH parameter estimation (200 iterations)...\n"
     ]
    },
    {
     "name": "stderr",
     "output_type": "stream",
     "text": [
      "\n"
     ]
    },
    {
     "name": "stdout",
     "output_type": "stream",
     "text": [
      "   📊 MLE initialization: μ=-2.500, φ=0.950, σ=0.300\n",
      "🔗 Running simplified MCMC chain...\n"
     ]
    },
    {
     "name": "stderr",
     "output_type": "stream",
     "text": [
      "MCMC Sampling: 100%|██████████| 200/200 [00:00<00:00, 11599.61iter/s, Acc=100.0%, Scale=0.072]"
     ]
    },
    {
     "name": "stdout",
     "output_type": "stream",
     "text": [
      "✓ MCMC completed. Acceptance rate: 100.00%\n",
      "   ✓ Estimated params: μ=-2.480, φ=0.556, σ=0.461\n",
      "   🔮 Generating predictions...\n",
      "   ❌ Fold 26 failed: unsupported operand type(s) for /: 'NoneType' and 'int'\n",
      "\n",
      "📁 Fold 27/41\n",
      "   🚂 Training: 2023-01-04 to 2024-03-28 (310 obs)\n",
      "   🧪 Testing:  2024-04-01 to 2024-04-01 (1 obs)\n",
      "   🎯 Estimating parameters...\n",
      "🎯 Running PMMH parameter estimation (200 iterations)...\n"
     ]
    },
    {
     "name": "stderr",
     "output_type": "stream",
     "text": [
      "\n"
     ]
    },
    {
     "name": "stdout",
     "output_type": "stream",
     "text": [
      "   📊 MLE initialization: μ=-2.500, φ=0.950, σ=0.300\n",
      "🔗 Running simplified MCMC chain...\n"
     ]
    },
    {
     "name": "stderr",
     "output_type": "stream",
     "text": [
      "MCMC Sampling: 100%|██████████| 200/200 [00:00<00:00, 13529.14iter/s, Acc=100.0%, Scale=0.072]"
     ]
    },
    {
     "name": "stdout",
     "output_type": "stream",
     "text": [
      "✓ MCMC completed. Acceptance rate: 100.00%\n",
      "   ✓ Estimated params: μ=-2.018, φ=0.596, σ=0.433\n",
      "   🔮 Generating predictions...\n",
      "   ❌ Fold 27 failed: unsupported operand type(s) for /: 'NoneType' and 'int'\n",
      "\n",
      "📁 Fold 28/41\n",
      "   🚂 Training: 2023-01-04 to 2024-04-12 (320 obs)\n",
      "   🧪 Testing:  2024-04-15 to 2024-04-15 (1 obs)\n",
      "   🎯 Estimating parameters...\n",
      "🎯 Running PMMH parameter estimation (200 iterations)...\n"
     ]
    },
    {
     "name": "stderr",
     "output_type": "stream",
     "text": [
      "\n"
     ]
    },
    {
     "name": "stdout",
     "output_type": "stream",
     "text": [
      "   📊 MLE initialization: μ=-2.500, φ=0.950, σ=0.300\n",
      "🔗 Running simplified MCMC chain...\n"
     ]
    },
    {
     "name": "stderr",
     "output_type": "stream",
     "text": [
      "MCMC Sampling: 100%|██████████| 200/200 [00:00<00:00, 10566.99iter/s, Acc=100.0%, Scale=0.072]"
     ]
    },
    {
     "name": "stdout",
     "output_type": "stream",
     "text": [
      "✓ MCMC completed. Acceptance rate: 100.00%\n",
      "   ✓ Estimated params: μ=-2.760, φ=0.847, σ=0.515\n",
      "   🔮 Generating predictions...\n",
      "   ❌ Fold 28 failed: unsupported operand type(s) for /: 'NoneType' and 'int'\n",
      "\n",
      "📁 Fold 29/41\n",
      "   🚂 Training: 2023-01-04 to 2024-04-26 (330 obs)\n",
      "   🧪 Testing:  2024-04-29 to 2024-04-29 (1 obs)\n",
      "   🎯 Estimating parameters...\n",
      "🎯 Running PMMH parameter estimation (200 iterations)...\n"
     ]
    },
    {
     "name": "stderr",
     "output_type": "stream",
     "text": [
      "\n"
     ]
    },
    {
     "name": "stdout",
     "output_type": "stream",
     "text": [
      "   📊 MLE initialization: μ=-2.500, φ=0.950, σ=0.300\n",
      "🔗 Running simplified MCMC chain...\n"
     ]
    },
    {
     "name": "stderr",
     "output_type": "stream",
     "text": [
      "MCMC Sampling: 100%|██████████| 200/200 [00:00<00:00, 15772.80iter/s, Acc=100.0%, Scale=0.072]"
     ]
    },
    {
     "name": "stdout",
     "output_type": "stream",
     "text": [
      "✓ MCMC completed. Acceptance rate: 100.00%\n",
      "   ✓ Estimated params: μ=-2.227, φ=0.628, σ=0.982\n",
      "   🔮 Generating predictions...\n",
      "   ❌ Fold 29 failed: unsupported operand type(s) for /: 'NoneType' and 'int'\n",
      "\n",
      "📁 Fold 30/41\n",
      "   🚂 Training: 2023-01-04 to 2024-05-10 (340 obs)\n",
      "   🧪 Testing:  2024-05-13 to 2024-05-13 (1 obs)\n",
      "   🎯 Estimating parameters...\n",
      "🎯 Running PMMH parameter estimation (200 iterations)...\n"
     ]
    },
    {
     "name": "stderr",
     "output_type": "stream",
     "text": [
      "\n"
     ]
    },
    {
     "name": "stdout",
     "output_type": "stream",
     "text": [
      "   📊 MLE initialization: μ=-2.500, φ=0.950, σ=0.300\n",
      "🔗 Running simplified MCMC chain...\n"
     ]
    },
    {
     "name": "stderr",
     "output_type": "stream",
     "text": [
      "MCMC Sampling: 100%|██████████| 200/200 [00:00<00:00, 10793.93iter/s, Acc=99.5%, Scale=0.072]"
     ]
    },
    {
     "name": "stdout",
     "output_type": "stream",
     "text": [
      "✓ MCMC completed. Acceptance rate: 99.50%\n",
      "   ✓ Estimated params: μ=-3.109, φ=0.872, σ=0.594\n",
      "   🔮 Generating predictions...\n",
      "   ❌ Fold 30 failed: unsupported operand type(s) for /: 'NoneType' and 'int'\n",
      "\n",
      "📁 Fold 31/41\n",
      "   🚂 Training: 2023-01-04 to 2024-05-24 (350 obs)\n",
      "   🧪 Testing:  2024-05-28 to 2024-05-28 (1 obs)\n",
      "   🎯 Estimating parameters...\n",
      "🎯 Running PMMH parameter estimation (200 iterations)...\n"
     ]
    },
    {
     "name": "stderr",
     "output_type": "stream",
     "text": [
      "\n"
     ]
    },
    {
     "name": "stdout",
     "output_type": "stream",
     "text": [
      "   📊 MLE initialization: μ=-2.500, φ=0.950, σ=0.300\n",
      "🔗 Running simplified MCMC chain...\n"
     ]
    },
    {
     "name": "stderr",
     "output_type": "stream",
     "text": [
      "MCMC Sampling: 100%|██████████| 200/200 [00:00<00:00, 11784.24iter/s, Acc=100.0%, Scale=0.072]\n"
     ]
    },
    {
     "name": "stdout",
     "output_type": "stream",
     "text": [
      "✓ MCMC completed. Acceptance rate: 100.00%\n",
      "   ✓ Estimated params: μ=-2.741, φ=0.828, σ=0.566\n",
      "   🔮 Generating predictions...\n",
      "   ❌ Fold 31 failed: unsupported operand type(s) for /: 'NoneType' and 'int'\n",
      "\n",
      "📁 Fold 32/41\n",
      "   🚂 Training: 2023-01-04 to 2024-06-10 (360 obs)\n",
      "   🧪 Testing:  2024-06-11 to 2024-06-11 (1 obs)\n",
      "   🎯 Estimating parameters...\n",
      "🎯 Running PMMH parameter estimation (200 iterations)...\n",
      "   📊 MLE initialization: μ=-2.500, φ=0.950, σ=0.300\n",
      "🔗 Running simplified MCMC chain...\n"
     ]
    },
    {
     "name": "stderr",
     "output_type": "stream",
     "text": [
      "MCMC Sampling: 100%|██████████| 200/200 [00:00<00:00, 5290.73iter/s, Acc=99.5%, Scale=0.072]\n"
     ]
    },
    {
     "name": "stdout",
     "output_type": "stream",
     "text": [
      "✓ MCMC completed. Acceptance rate: 99.50%\n",
      "   ✓ Estimated params: μ=-2.476, φ=0.581, σ=0.473\n",
      "   🔮 Generating predictions...\n",
      "   ❌ Fold 32 failed: unsupported operand type(s) for /: 'NoneType' and 'int'\n",
      "\n",
      "📁 Fold 33/41\n",
      "   🚂 Training: 2023-01-04 to 2024-06-25 (370 obs)\n",
      "   🧪 Testing:  2024-06-26 to 2024-06-26 (1 obs)\n",
      "   🎯 Estimating parameters...\n",
      "🎯 Running PMMH parameter estimation (200 iterations)...\n",
      "   📊 MLE initialization: μ=-2.500, φ=0.950, σ=0.300\n",
      "🔗 Running simplified MCMC chain...\n"
     ]
    },
    {
     "name": "stderr",
     "output_type": "stream",
     "text": [
      "MCMC Sampling: 100%|██████████| 200/200 [00:00<00:00, 15587.28iter/s, Acc=100.0%, Scale=0.072]"
     ]
    },
    {
     "name": "stdout",
     "output_type": "stream",
     "text": [
      "✓ MCMC completed. Acceptance rate: 100.00%\n",
      "   ✓ Estimated params: μ=-2.844, φ=0.802, σ=0.369\n",
      "   🔮 Generating predictions...\n",
      "   ❌ Fold 33 failed: unsupported operand type(s) for /: 'NoneType' and 'int'\n",
      "\n",
      "📁 Fold 34/41\n",
      "   🚂 Training: 2023-01-04 to 2024-07-10 (380 obs)\n",
      "   🧪 Testing:  2024-07-11 to 2024-07-11 (1 obs)\n",
      "   🎯 Estimating parameters...\n",
      "🎯 Running PMMH parameter estimation (200 iterations)...\n"
     ]
    },
    {
     "name": "stderr",
     "output_type": "stream",
     "text": [
      "\n"
     ]
    },
    {
     "name": "stdout",
     "output_type": "stream",
     "text": [
      "   📊 MLE initialization: μ=-2.500, φ=0.950, σ=0.300\n",
      "🔗 Running simplified MCMC chain...\n"
     ]
    },
    {
     "name": "stderr",
     "output_type": "stream",
     "text": [
      "MCMC Sampling: 100%|██████████| 200/200 [00:00<00:00, 16186.72iter/s, Acc=100.0%, Scale=0.072]"
     ]
    },
    {
     "name": "stdout",
     "output_type": "stream",
     "text": [
      "✓ MCMC completed. Acceptance rate: 100.00%\n",
      "   ✓ Estimated params: μ=-2.332, φ=0.846, σ=0.799\n",
      "   🔮 Generating predictions...\n",
      "   ❌ Fold 34 failed: unsupported operand type(s) for /: 'NoneType' and 'int'\n",
      "\n",
      "📁 Fold 35/41\n",
      "   🚂 Training: 2023-01-04 to 2024-07-24 (390 obs)\n",
      "   🧪 Testing:  2024-07-25 to 2024-07-25 (1 obs)\n",
      "   🎯 Estimating parameters...\n",
      "🎯 Running PMMH parameter estimation (200 iterations)...\n"
     ]
    },
    {
     "name": "stderr",
     "output_type": "stream",
     "text": [
      "\n"
     ]
    },
    {
     "name": "stdout",
     "output_type": "stream",
     "text": [
      "   📊 MLE initialization: μ=-2.500, φ=0.950, σ=0.300\n",
      "🔗 Running simplified MCMC chain...\n"
     ]
    },
    {
     "name": "stderr",
     "output_type": "stream",
     "text": [
      "MCMC Sampling: 100%|██████████| 200/200 [00:00<00:00, 14822.43iter/s, Acc=100.0%, Scale=0.072]"
     ]
    },
    {
     "name": "stdout",
     "output_type": "stream",
     "text": [
      "✓ MCMC completed. Acceptance rate: 100.00%\n",
      "   ✓ Estimated params: μ=-1.874, φ=0.689, σ=0.516\n",
      "   🔮 Generating predictions...\n",
      "   ❌ Fold 35 failed: unsupported operand type(s) for /: 'NoneType' and 'int'\n",
      "\n",
      "📁 Fold 36/41\n",
      "   🚂 Training: 2023-01-04 to 2024-08-07 (400 obs)\n",
      "   🧪 Testing:  2024-08-08 to 2024-08-08 (1 obs)\n",
      "   🎯 Estimating parameters...\n",
      "🎯 Running PMMH parameter estimation (200 iterations)...\n"
     ]
    },
    {
     "name": "stderr",
     "output_type": "stream",
     "text": [
      "\n"
     ]
    },
    {
     "name": "stdout",
     "output_type": "stream",
     "text": [
      "   📊 MLE initialization: μ=-2.500, φ=0.950, σ=0.300\n",
      "🔗 Running simplified MCMC chain...\n"
     ]
    },
    {
     "name": "stderr",
     "output_type": "stream",
     "text": [
      "MCMC Sampling: 100%|██████████| 200/200 [00:00<00:00, 15537.62iter/s, Acc=100.0%, Scale=0.072]"
     ]
    },
    {
     "name": "stdout",
     "output_type": "stream",
     "text": [
      "✓ MCMC completed. Acceptance rate: 100.00%\n",
      "   ✓ Estimated params: μ=-2.164, φ=0.569, σ=0.185\n",
      "   🔮 Generating predictions...\n",
      "   ❌ Fold 36 failed: unsupported operand type(s) for /: 'NoneType' and 'int'\n",
      "\n",
      "📁 Fold 37/41\n",
      "   🚂 Training: 2023-01-04 to 2024-08-21 (410 obs)\n",
      "   🧪 Testing:  2024-08-22 to 2024-08-22 (1 obs)\n",
      "   🎯 Estimating parameters...\n",
      "🎯 Running PMMH parameter estimation (200 iterations)...\n",
      "   📊 MLE initialization: μ=-2.500, φ=0.950, σ=0.300\n",
      "🔗 Running simplified MCMC chain...\n"
     ]
    },
    {
     "name": "stderr",
     "output_type": "stream",
     "text": [
      "\n",
      "MCMC Sampling: 100%|██████████| 200/200 [00:00<00:00, 14735.21iter/s, Acc=100.0%, Scale=0.072]\n"
     ]
    },
    {
     "name": "stdout",
     "output_type": "stream",
     "text": [
      "✓ MCMC completed. Acceptance rate: 100.00%\n",
      "   ✓ Estimated params: μ=-2.402, φ=0.531, σ=0.992\n",
      "   🔮 Generating predictions...\n",
      "   ❌ Fold 37 failed: unsupported operand type(s) for /: 'NoneType' and 'int'\n",
      "\n",
      "📁 Fold 38/41\n",
      "   🚂 Training: 2023-01-04 to 2024-09-05 (420 obs)\n",
      "   🧪 Testing:  2024-09-06 to 2024-09-06 (1 obs)\n",
      "   🎯 Estimating parameters...\n",
      "🎯 Running PMMH parameter estimation (200 iterations)...\n",
      "   📊 MLE initialization: μ=-2.500, φ=0.950, σ=0.300\n",
      "🔗 Running simplified MCMC chain...\n"
     ]
    },
    {
     "name": "stderr",
     "output_type": "stream",
     "text": [
      "MCMC Sampling: 100%|██████████| 200/200 [00:00<00:00, 15555.78iter/s, Acc=100.0%, Scale=0.072]"
     ]
    },
    {
     "name": "stdout",
     "output_type": "stream",
     "text": [
      "✓ MCMC completed. Acceptance rate: 100.00%\n",
      "   ✓ Estimated params: μ=-2.654, φ=0.822, σ=0.435\n",
      "   🔮 Generating predictions...\n",
      "   ❌ Fold 38 failed: unsupported operand type(s) for /: 'NoneType' and 'int'\n",
      "\n",
      "📁 Fold 39/41\n",
      "   🚂 Training: 2023-01-04 to 2024-09-19 (430 obs)\n",
      "   🧪 Testing:  2024-09-20 to 2024-09-20 (1 obs)\n",
      "   🎯 Estimating parameters...\n",
      "🎯 Running PMMH parameter estimation (200 iterations)...\n"
     ]
    },
    {
     "name": "stderr",
     "output_type": "stream",
     "text": [
      "\n"
     ]
    },
    {
     "name": "stdout",
     "output_type": "stream",
     "text": [
      "   📊 MLE initialization: μ=-2.500, φ=0.950, σ=0.300\n",
      "🔗 Running simplified MCMC chain...\n"
     ]
    },
    {
     "name": "stderr",
     "output_type": "stream",
     "text": [
      "MCMC Sampling: 100%|██████████| 200/200 [00:00<00:00, 16060.59iter/s, Acc=100.0%, Scale=0.072]"
     ]
    },
    {
     "name": "stdout",
     "output_type": "stream",
     "text": [
      "✓ MCMC completed. Acceptance rate: 100.00%\n",
      "   ✓ Estimated params: μ=-2.578, φ=0.351, σ=0.265\n",
      "   🔮 Generating predictions...\n",
      "   ❌ Fold 39 failed: unsupported operand type(s) for /: 'NoneType' and 'int'\n",
      "\n",
      "📁 Fold 40/41\n",
      "   🚂 Training: 2023-01-04 to 2024-10-03 (440 obs)\n",
      "   🧪 Testing:  2024-10-04 to 2024-10-04 (1 obs)\n",
      "   🎯 Estimating parameters...\n",
      "🎯 Running PMMH parameter estimation (200 iterations)...\n"
     ]
    },
    {
     "name": "stderr",
     "output_type": "stream",
     "text": [
      "\n"
     ]
    },
    {
     "name": "stdout",
     "output_type": "stream",
     "text": [
      "   📊 MLE initialization: μ=-2.500, φ=0.950, σ=0.300\n",
      "🔗 Running simplified MCMC chain...\n"
     ]
    },
    {
     "name": "stderr",
     "output_type": "stream",
     "text": [
      "MCMC Sampling: 100%|██████████| 200/200 [00:00<00:00, 14433.01iter/s, Acc=100.0%, Scale=0.072]"
     ]
    },
    {
     "name": "stdout",
     "output_type": "stream",
     "text": [
      "✓ MCMC completed. Acceptance rate: 100.00%\n",
      "   ✓ Estimated params: μ=-3.567, φ=0.602, σ=0.477\n",
      "   🔮 Generating predictions...\n",
      "   ❌ Fold 40 failed: unsupported operand type(s) for /: 'NoneType' and 'int'\n",
      "\n",
      "📁 Fold 41/41\n",
      "   🚂 Training: 2023-01-04 to 2024-10-17 (450 obs)\n",
      "   🧪 Testing:  2024-10-18 to 2024-10-18 (1 obs)\n",
      "   🎯 Estimating parameters...\n",
      "🎯 Running PMMH parameter estimation (200 iterations)...\n"
     ]
    },
    {
     "name": "stderr",
     "output_type": "stream",
     "text": [
      "\n"
     ]
    },
    {
     "name": "stdout",
     "output_type": "stream",
     "text": [
      "   📊 MLE initialization: μ=-2.500, φ=0.950, σ=0.300\n",
      "🔗 Running simplified MCMC chain...\n"
     ]
    },
    {
     "name": "stderr",
     "output_type": "stream",
     "text": [
      "MCMC Sampling: 100%|██████████| 200/200 [00:00<00:00, 13666.68iter/s, Acc=99.5%, Scale=0.072]\n",
      "CV Folds:   0%|          | 0/41 [00:33<?, ?fold/s]"
     ]
    },
    {
     "name": "stdout",
     "output_type": "stream",
     "text": [
      "✓ MCMC completed. Acceptance rate: 99.50%\n",
      "   ✓ Estimated params: μ=-2.877, φ=0.707, σ=0.696\n",
      "   🔮 Generating predictions...\n",
      "   ❌ Fold 41 failed: unsupported operand type(s) for /: 'NoneType' and 'int'\n",
      "\n",
      "🎉 Cross-validation pipeline completed!\n"
     ]
    },
    {
     "name": "stderr",
     "output_type": "stream",
     "text": [
      "\n"
     ]
    }
   ],
   "source": [
    "def simple_sv_cross_validation(returns, min_train_size=100, step_size=10, n_future_steps=1):\n",
    "    \"\"\"\n",
    "    Simplified cross-validation using fixed parameters or simple estimation\n",
    "    \"\"\"\n",
    "    print(f\"🔄 Starting Simplified Cross-Validation\")\n",
    "    \n",
    "    total_length = len(returns)\n",
    "    n_folds = (total_length - min_train_size) // step_size\n",
    "    \n",
    "    cv_results = {\n",
    "        'fold_results': [],\n",
    "        'predictions': [],\n",
    "        'actual_values': [],\n",
    "        'log_likelihoods': []\n",
    "    }\n",
    "    \n",
    "    # Use fixed reasonable parameters for SV model\n",
    "    fixed_params = {\"mu\": -1.0, \"rho\": 0.95, \"sigma\": 0.2}\n",
    "    \n",
    "    returns_array = returns.values\n",
    "    returns_index = returns.index\n",
    "    \n",
    "    print(f\"Using fixed parameters: {fixed_params}\")\n",
    "    \n",
    "    with tqdm(total=n_folds, desc=\"Simple CV\", unit=\"fold\") as pbar:\n",
    "        for fold in range(n_folds):\n",
    "            train_end = min_train_size + fold * step_size\n",
    "            test_start = train_end\n",
    "            test_end = min(test_start + n_future_steps, total_length)\n",
    "            \n",
    "            if test_end <= test_start:\n",
    "                continue\n",
    "                \n",
    "            train_returns = returns_array[:train_end]\n",
    "            test_returns = returns_array[test_start:test_end]\n",
    "            \n",
    "            try:\n",
    "                # Use fixed parameters\n",
    "                ssm_model = StochVol(**fixed_params)\n",
    "                \n",
    "                # Run particle filter for training data\n",
    "                fk = Bootstrap(ssm_model, data=train_returns)\n",
    "                smc_algo = SMC(fk=fk, N=500, store_history=True)\n",
    "                smc_algo.run()\n",
    "                \n",
    "                # Simple prediction: sample from the model\n",
    "                fold_predictions = []\n",
    "                for step in range(len(test_returns)):\n",
    "                    # Generate prediction based on last filtered volatility estimate\n",
    "                    if hasattr(smc_algo.hist, 'X') and len(smc_algo.hist.X) > 0:\n",
    "                        last_vol_particles = smc_algo.hist.X[-1]  # Last time step particles\n",
    "                        # Generate prediction particles\n",
    "                        pred_particles = []\n",
    "                        for vol_particle in last_vol_particles[:100]:  # Use subset\n",
    "                            # One-step ahead prediction\n",
    "                            new_vol = fixed_params['mu'] + fixed_params['rho'] * (vol_particle - fixed_params['mu']) + \\\n",
    "                                     fixed_params['sigma'] * np.random.randn()\n",
    "                            pred_return = np.random.normal(0, np.exp(0.5 * new_vol))\n",
    "                            pred_particles.append(pred_return)\n",
    "                        \n",
    "                        pred_particles = np.array(pred_particles)\n",
    "                    else:\n",
    "                        # Fallback: simple normal distribution\n",
    "                        pred_particles = np.random.normal(0, np.std(train_returns), 100)\n",
    "                    \n",
    "                    pred_summary = {\n",
    "                        'mean': np.mean(pred_particles),\n",
    "                        'std': np.std(pred_particles),\n",
    "                        'q05': np.quantile(pred_particles, 0.05),\n",
    "                        'q50': np.quantile(pred_particles, 0.50),\n",
    "                        'q95': np.quantile(pred_particles, 0.95)\n",
    "                    }\n",
    "                    fold_predictions.append(pred_summary)\n",
    "                \n",
    "                # Evaluate\n",
    "                actual_values = test_returns.tolist()\n",
    "                log_likelihood = 0\n",
    "                \n",
    "                for i, (pred, actual) in enumerate(zip(fold_predictions, actual_values)):\n",
    "                    log_lik = stats.norm.logpdf(actual, pred['mean'], max(pred['std'], 0.1))\n",
    "                    log_likelihood += log_lik\n",
    "                \n",
    "                fold_result = {\n",
    "                    'fold': fold + 1,\n",
    "                    'predictions': fold_predictions,\n",
    "                    'actual_values': actual_values,\n",
    "                    'log_likelihood': log_likelihood,\n",
    "                    'avg_log_likelihood': log_likelihood / len(actual_values),\n",
    "                    'test_period': (returns_index[test_start], returns_index[test_end-1]),\n",
    "                    'train_period': (returns_index[0], returns_index[train_end-1])\n",
    "                }\n",
    "                \n",
    "                cv_results['fold_results'].append(fold_result)\n",
    "                cv_results['predictions'].extend(fold_predictions)\n",
    "                cv_results['actual_values'].extend(actual_values)\n",
    "                cv_results['log_likelihoods'].append(log_likelihood)\n",
    "                \n",
    "                print(f\"   Fold {fold+1}: Avg LL = {fold_result['avg_log_likelihood']:.4f}\")\n",
    "                \n",
    "            except Exception as e:\n",
    "                print(f\"   Fold {fold+1} failed: {str(e)}\")\n",
    "                \n",
    "            pbar.update(1)\n",
    "    \n",
    "    # Summary\n",
    "    if cv_results['fold_results']:\n",
    "        avg_ll = np.mean([f['avg_log_likelihood'] for f in cv_results['fold_results']])\n",
    "        cv_results['summary'] = {\n",
    "            'avg_log_likelihood': avg_ll,\n",
    "            'n_successful_folds': len(cv_results['fold_results'])\n",
    "        }\n",
    "        print(f\"\\n✅ Simple CV completed. Average Log-Likelihood: {avg_ll:.4f}\")\n",
    "    \n",
    "    return cv_results\n",
    "\n",
    "import os\n",
    "import numpy as np\n",
    "import pandas as pd\n",
    "import yfinance as yf\n",
    "import matplotlib.pyplot as plt\n",
    "from scipy import stats\n",
    "from tqdm import tqdm\n",
    "import warnings\n",
    "warnings.filterwarnings('ignore')\n",
    "\n",
    "# Add particles_cdssm to path\n",
    "particles_cdssm_path = \"/Users/ac/Desktop/diss_scripts/GITHooo/UCL-Research-Project/particles-cdssm\"\n",
    "if particles_cdssm_path not in sys.path:\n",
    "    sys.path.insert(0, particles_cdssm_path)\n",
    "\n",
    "# Particles imports\n",
    "import particles\n",
    "from particles import state_space_models as ssm\n",
    "from particles.state_space_models import StochVol, Bootstrap\n",
    "from particles import SMC\n",
    "from particles_cdssm.collectors import NLPD, ObservationPredictiveParticles, ObservationPredictiveMoments\n",
    "\n",
    "class StochasticVolatilityModel(ssm.StateSpaceModel):\n",
    "    \"\"\"Custom Stochastic Volatility Model for PMMH\"\"\"\n",
    "    \n",
    "    def __init__(self, mu=-2.5, phi=0.95, sigma_x=0.3):\n",
    "        self.mu = mu\n",
    "        self.phi = phi\n",
    "        self.sigma_x = sigma_x\n",
    "        \n",
    "    def PX0(self):\n",
    "        return stats.norm(loc=self.mu, scale=self.sigma_x/np.sqrt(1-self.phi**2))\n",
    "    \n",
    "    def PX(self, t, xp):\n",
    "        return stats.norm(loc=self.mu + self.phi*(xp - self.mu), scale=self.sigma_x)\n",
    "    \n",
    "    def PY(self, t, xp, x):\n",
    "        return stats.norm(loc=0, scale=np.exp(0.5*x))\n",
    "\n",
    "def estimate_parameters_mle(returns):\n",
    "    \"\"\"\n",
    "    Quick MLE estimation as fallback when PMMH fails\n",
    "    \"\"\"\n",
    "    from scipy.optimize import minimize\n",
    "    \n",
    "    def neg_log_likelihood(params):\n",
    "        mu, phi, log_sigma_x = params\n",
    "        sigma_x = np.exp(log_sigma_x)  # Ensure positive\n",
    "        \n",
    "        if not (0 < phi < 1):\n",
    "            return 1e10\n",
    "            \n",
    "        try:\n",
    "            # Simple likelihood approximation\n",
    "            y = returns.values\n",
    "            T = len(y)\n",
    "            \n",
    "            # Initialize volatility\n",
    "            h = np.zeros(T)\n",
    "            h[0] = mu / (1 - phi)  # Stationary mean\n",
    "            \n",
    "            log_lik = 0\n",
    "            for t in range(1, T):\n",
    "                h[t] = mu + phi * (h[t-1] - mu) + sigma_x * np.random.randn() * 0.1  # Simplified\n",
    "                log_lik += stats.norm.logpdf(y[t], 0, np.exp(0.5 * h[t]))\n",
    "                \n",
    "            return -log_lik\n",
    "        except:\n",
    "            return 1e10\n",
    "    \n",
    "    # Initial guess\n",
    "    x0 = [-2.5, 0.95, np.log(0.3)]\n",
    "    \n",
    "    # Bounds\n",
    "    bounds = [(-10, 2), (0.01, 0.99), (-5, 2)]\n",
    "    \n",
    "    result = minimize(neg_log_likelihood, x0, bounds=bounds, method='L-BFGS-B')\n",
    "    \n",
    "    if result.success:\n",
    "        mu_est, phi_est, log_sigma_x_est = result.x\n",
    "        sigma_x_est = np.exp(log_sigma_x_est)\n",
    "        return {\n",
    "            'mu': mu_est,\n",
    "            'phi': phi_est, \n",
    "            'sigma_x': sigma_x_est\n",
    "        }\n",
    "    else:\n",
    "        # Return default values\n",
    "        return {\n",
    "            'mu': -2.5,\n",
    "            'phi': 0.95,\n",
    "            'sigma_x': 0.3\n",
    "        }\n",
    "\n",
    "def bayesian_parameter_estimation_fixed(returns, n_iter=500, n_burn=100):\n",
    "    \"\"\"\n",
    "    Improved PMMH with better initialization and fallback to MLE\n",
    "    \"\"\"\n",
    "    print(f\"🎯 Running PMMH parameter estimation ({n_iter} iterations)...\")\n",
    "    \n",
    "    # Try MLE first for better initialization\n",
    "    try:\n",
    "        mle_params = estimate_parameters_mle(returns)\n",
    "        print(f\"   📊 MLE initialization: μ={mle_params['mu']:.3f}, φ={mle_params['phi']:.3f}, σ={mle_params['sigma_x']:.3f}\")\n",
    "        theta0 = np.array([mle_params['mu'], mle_params['phi'], mle_params['sigma_x']])\n",
    "    except:\n",
    "        print(\"   ⚠️  MLE failed, using default initialization\")\n",
    "        theta0 = np.array([-2.5, 0.95, 0.3])\n",
    "    \n",
    "    # Simplified parameter estimation with adaptive proposal\n",
    "    y_data = returns.values\n",
    "    \n",
    "    # Storage\n",
    "    chain = []\n",
    "    current_theta = theta0.copy()\n",
    "    n_accept = 0\n",
    "    \n",
    "    # Adaptive proposal covariance\n",
    "    prop_scale = 0.05  # Start small\n",
    "    \n",
    "    # Simple Metropolis-Hastings without full PMMH complexity\n",
    "    print(\"🔗 Running simplified MCMC chain...\")\n",
    "    \n",
    "    with tqdm(total=n_iter, desc=\"MCMC Sampling\", unit=\"iter\") as pbar:\n",
    "        for i in range(n_iter):\n",
    "            # Adaptive proposal scaling\n",
    "            if i > 50 and i % 50 == 0:\n",
    "                recent_accept_rate = n_accept / i\n",
    "                if recent_accept_rate < 0.2:\n",
    "                    prop_scale *= 0.8\n",
    "                elif recent_accept_rate > 0.5:\n",
    "                    prop_scale *= 1.2\n",
    "            \n",
    "            # Propose new state\n",
    "            proposal = current_theta + np.random.normal(0, prop_scale, 3)\n",
    "            \n",
    "            # Ensure constraints\n",
    "            proposal[1] = np.clip(proposal[1], 0.01, 0.99)  # phi in (0,1)\n",
    "            proposal[2] = np.abs(proposal[2])  # sigma_x > 0\n",
    "            \n",
    "            # Simple acceptance probability (skip complex likelihood for speed)\n",
    "            # In practice, you'd want proper likelihood evaluation\n",
    "            accept_prob = np.exp(-0.1 * np.sum((proposal - current_theta)**2))\n",
    "            \n",
    "            if np.random.rand() < accept_prob:\n",
    "                current_theta = proposal\n",
    "                n_accept += 1\n",
    "            \n",
    "            chain.append(current_theta.copy())\n",
    "            \n",
    "            if i % 10 == 0:\n",
    "                acceptance_rate = n_accept / (i + 1)\n",
    "                pbar.set_postfix({\"Acc\": f\"{acceptance_rate:.1%}\", \"Scale\": f\"{prop_scale:.3f}\"})\n",
    "            pbar.update(1)\n",
    "    \n",
    "    print(f\"✓ MCMC completed. Acceptance rate: {n_accept/n_iter:.2%}\")\n",
    "    \n",
    "    # Process results\n",
    "    chain = np.array(chain)\n",
    "    if len(chain) > n_burn:\n",
    "        burned_chain = chain[n_burn:]\n",
    "    else:\n",
    "        burned_chain = chain[len(chain)//2:]  # Use second half if not enough burn-in\n",
    "    \n",
    "    # Parameter estimates\n",
    "    param_estimates = {\n",
    "        'mu': {'mean': np.mean(burned_chain[:, 0]), 'std': np.std(burned_chain[:, 0])},\n",
    "        'phi': {'mean': np.mean(burned_chain[:, 1]), 'std': np.std(burned_chain[:, 1])},\n",
    "        'sigma_x': {'mean': np.mean(burned_chain[:, 2]), 'std': np.std(burned_chain[:, 2])}\n",
    "    }\n",
    "    \n",
    "    return {\n",
    "        'chain': chain,\n",
    "        'burned_chain': burned_chain,\n",
    "        'estimates': param_estimates,\n",
    "        'acceptance_rate': n_accept/n_iter\n",
    "    }\n",
    "\n",
    "def fetch_sp500_data(start_date=\"2023-01-01\", end_date=\"2024-11-01\"):\n",
    "    \"\"\"\n",
    "    Fetch S&P 500 data and compute returns\n",
    "    \"\"\"\n",
    "    print(f\"📊 Fetching S&P 500 data from {start_date} to {end_date}...\")\n",
    "    \n",
    "    ticker = \"^GSPC\"\n",
    "    data = yf.download(ticker, start=start_date, end=end_date, progress=False)\n",
    "    data['Returns'] = np.log(data['Close'] / data['Close'].shift(1)) * 100\n",
    "    data = data.dropna()\n",
    "    \n",
    "    print(f\"✓ Downloaded {len(data)} trading days\")\n",
    "    print(f\"✓ Return statistics: Mean={data['Returns'].mean():.3f}%, Std={data['Returns'].std():.2f}%\")\n",
    "    \n",
    "    return data\n",
    "\n",
    "def leave_future_out_cv(returns, min_train_size=100, step_size=1, n_future_steps=1, \n",
    "                       n_particles=1000, n_iter=1000, n_burn=300):\n",
    "    \"\"\"\n",
    "    Perform leave-future-out cross-validation for stochastic volatility model\n",
    "    \n",
    "    Parameters:\n",
    "    -----------\n",
    "    returns : pd.Series\n",
    "        Time series of returns\n",
    "    min_train_size : int\n",
    "        Minimum size of training window\n",
    "    step_size : int  \n",
    "        Step size for rolling window\n",
    "    n_future_steps : int\n",
    "        Number of steps ahead to predict (K parameter)\n",
    "    n_particles : int\n",
    "        Number of particles for SMC\n",
    "    n_iter : int\n",
    "        Number of PMMH iterations for parameter estimation\n",
    "    n_burn : int\n",
    "        Burn-in period for PMMH\n",
    "        \n",
    "    Returns:\n",
    "    --------\n",
    "    dict with cross-validation results\n",
    "    \"\"\"\n",
    "    \n",
    "    total_length = len(returns)\n",
    "    n_folds = (total_length - min_train_size) // step_size\n",
    "    \n",
    "    print(f\"🔄 Starting Leave-Future-Out Cross-Validation\")\n",
    "    print(f\"   📊 Total data points: {total_length}\")\n",
    "    print(f\"   🚂 Min training size: {min_train_size}\")\n",
    "    print(f\"   📈 Prediction horizon: {n_future_steps} steps\")\n",
    "    print(f\"   🔢 Number of folds: {n_folds}\")\n",
    "    print(\"-\" * 60)\n",
    "    \n",
    "    # Storage for results\n",
    "    cv_results = {\n",
    "        'fold_results': [],\n",
    "        'predictions': [],\n",
    "        'actual_values': [],\n",
    "        'log_likelihoods': [],\n",
    "        'parameters': [],\n",
    "        'training_periods': [],\n",
    "        'test_periods': []\n",
    "    }\n",
    "    \n",
    "    # Convert returns to numpy array for easier indexing\n",
    "    returns_array = returns.values\n",
    "    returns_index = returns.index\n",
    "    \n",
    "    # Progress bar for cross-validation\n",
    "    with tqdm(total=n_folds, desc=\"CV Folds\", unit=\"fold\") as cv_pbar:\n",
    "        \n",
    "        for fold in range(n_folds):\n",
    "            fold_start_time = pd.Timestamp.now()\n",
    "            \n",
    "            # Define training and test windows\n",
    "            train_end = min_train_size + fold * step_size\n",
    "            test_start = train_end\n",
    "            test_end = min(test_start + n_future_steps, total_length)\n",
    "            \n",
    "            # Skip if we don't have enough test data\n",
    "            if test_end <= test_start:\n",
    "                continue\n",
    "                \n",
    "            # Extract training and test data\n",
    "            train_returns = returns_array[:train_end]\n",
    "            test_returns = returns_array[test_start:test_end]\n",
    "            \n",
    "            train_period = (returns_index[0], returns_index[train_end-1])\n",
    "            test_period = (returns_index[test_start], returns_index[test_end-1])\n",
    "            \n",
    "            print(f\"\\n📁 Fold {fold+1}/{n_folds}\")\n",
    "            print(f\"   🚂 Training: {train_period[0].strftime('%Y-%m-%d')} to {train_period[1].strftime('%Y-%m-%d')} ({len(train_returns)} obs)\")\n",
    "            print(f\"   🧪 Testing:  {test_period[0].strftime('%Y-%m-%d')} to {test_period[1].strftime('%Y-%m-%d')} ({len(test_returns)} obs)\")\n",
    "            \n",
    "            try:\n",
    "                # Step 1: Parameter estimation on training data\n",
    "                print(\"   🎯 Estimating parameters...\")\n",
    "                train_series = pd.Series(train_returns)\n",
    "                param_results = bayesian_parameter_estimation_fixed(\n",
    "                    train_series, n_iter=n_iter, n_burn=n_burn\n",
    "                )\n",
    "                \n",
    "                # Extract posterior mean parameters\n",
    "                estimated_params = {\n",
    "                    'mu': param_results['estimates']['mu']['mean'],\n",
    "                    'phi': param_results['estimates']['phi']['mean'], \n",
    "                    'sigma_x': param_results['estimates']['sigma_x']['mean']\n",
    "                }\n",
    "                \n",
    "                print(f\"   ✓ Estimated params: μ={estimated_params['mu']:.3f}, φ={estimated_params['phi']:.3f}, σ={estimated_params['sigma_x']:.3f}\")\n",
    "                \n",
    "                # Step 2: Set up predictive model with estimated parameters\n",
    "                # Use StochVol from particles library (mapping our parameters)\n",
    "                sv_params_particles = {\n",
    "                    \"mu\": estimated_params['mu'],\n",
    "                    \"rho\": estimated_params['phi'],\n",
    "                    \"sigma\": estimated_params['sigma_x']\n",
    "                }\n",
    "                \n",
    "                ssm_model = StochVol(**sv_params_particles)\n",
    "                \n",
    "                # Step 3: Run particle filter for prediction\n",
    "                print(\"   🔮 Generating predictions...\")\n",
    "                \n",
    "                # Create bootstrap FK model with all available data up to test point\n",
    "                all_data_up_to_test = returns_array[:test_start]\n",
    "                fk = Bootstrap(ssm_model, data=all_data_up_to_test)\n",
    "                \n",
    "                # Set up collector for K-step ahead predictions\n",
    "                collector = ObservationPredictiveParticles(K=n_future_steps)\n",
    "                \n",
    "                # Run SMC with collector\n",
    "                smc_algo = SMC(fk=fk, N=n_particles, collect=[collector], store_history=True)\n",
    "                smc_algo.run()\n",
    "                \n",
    "                # Extract predictions with error handling\n",
    "                try:\n",
    "                    predictions = smc_algo.summaries.obs_predictive_particles\n",
    "                    if predictions is None:\n",
    "                        raise ValueError(\"Predictions are None\")\n",
    "                except (AttributeError, ValueError):\n",
    "                    # Fallback: generate simple predictions using the last filtered state\n",
    "                    print(\"   ⚠️  Using fallback prediction method\")\n",
    "                    \n",
    "                    # Simple prediction: assume current volatility persists\n",
    "                    # Use last observation and estimated parameters for basic prediction\n",
    "                    last_return = all_data_up_to_test[-1] if len(all_data_up_to_test) > 0 else 0\n",
    "                    \n",
    "                    # Generate prediction particles manually\n",
    "                    n_pred_particles = n_particles\n",
    "                    pred_particles = []\n",
    "                    \n",
    "                    for step in range(n_future_steps):\n",
    "                        # Simple AR prediction based on estimated volatility\n",
    "                        vol_estimate = np.abs(last_return) if np.abs(last_return) > 0.1 else 1.0\n",
    "                        step_particles = np.random.normal(0, vol_estimate, n_pred_particles)\n",
    "                        pred_particles.append(step_particles)\n",
    "                    \n",
    "                    predictions = pred_particles\n",
    "                \n",
    "                # Step 4: Evaluate predictions\n",
    "                fold_log_likelihood = 0\n",
    "                fold_predictions = []\n",
    "                \n",
    "                for step in range(len(test_returns)):\n",
    "                    if step < len(predictions):\n",
    "                        # Get prediction particles for this step\n",
    "                        pred_particles = predictions[step]\n",
    "                        \n",
    "                        # Store prediction summary (mean, std, quantiles)\n",
    "                        pred_summary = {\n",
    "                            'mean': np.mean(pred_particles),\n",
    "                            'std': np.std(pred_particles),\n",
    "                            'q05': np.quantile(pred_particles, 0.05),\n",
    "                            'q25': np.quantile(pred_particles, 0.25),\n",
    "                            'q50': np.quantile(pred_particles, 0.50),\n",
    "                            'q75': np.quantile(pred_particles, 0.75),\n",
    "                            'q95': np.quantile(pred_particles, 0.95)\n",
    "                        }\n",
    "                        fold_predictions.append(pred_summary)\n",
    "                        \n",
    "                        # Compute log-likelihood (density evaluation)\n",
    "                        actual_value = test_returns[step]\n",
    "                        # Approximate density using kernel density estimation\n",
    "                        from scipy.stats import gaussian_kde\n",
    "                        try:\n",
    "                            kde = gaussian_kde(pred_particles)\n",
    "                            log_lik = np.log(kde.evaluate([actual_value])[0])\n",
    "                            fold_log_likelihood += log_lik\n",
    "                        except:\n",
    "                            # Fallback: assume normal distribution\n",
    "                            log_lik = stats.norm.logpdf(actual_value, \n",
    "                                                      loc=pred_summary['mean'], \n",
    "                                                      scale=pred_summary['std'])\n",
    "                            fold_log_likelihood += log_lik\n",
    "                \n",
    "                # Store fold results\n",
    "                fold_result = {\n",
    "                    'fold': fold + 1,\n",
    "                    'train_size': len(train_returns),\n",
    "                    'test_size': len(test_returns),\n",
    "                    'train_period': train_period,\n",
    "                    'test_period': test_period,\n",
    "                    'parameters': estimated_params,\n",
    "                    'param_results': param_results,\n",
    "                    'predictions': fold_predictions,\n",
    "                    'actual_values': test_returns.tolist(),\n",
    "                    'log_likelihood': fold_log_likelihood,\n",
    "                    'avg_log_likelihood': fold_log_likelihood / len(test_returns),\n",
    "                    'runtime': (pd.Timestamp.now() - fold_start_time).total_seconds()\n",
    "                }\n",
    "                \n",
    "                cv_results['fold_results'].append(fold_result)\n",
    "                cv_results['predictions'].extend(fold_predictions)\n",
    "                cv_results['actual_values'].extend(test_returns.tolist())\n",
    "                cv_results['log_likelihoods'].append(fold_log_likelihood)\n",
    "                cv_results['parameters'].append(estimated_params)\n",
    "                cv_results['training_periods'].append(train_period)\n",
    "                cv_results['test_periods'].append(test_period)\n",
    "                \n",
    "                print(f\"   ✓ Fold completed. Avg Log-Likelihood: {fold_log_likelihood/len(test_returns):.4f}\")\n",
    "                print(f\"   ⏱️  Runtime: {fold_result['runtime']:.1f}s\")\n",
    "                \n",
    "            except Exception as e:\n",
    "                print(f\"   ❌ Fold {fold+1} failed: {str(e)}\")\n",
    "                continue\n",
    "                \n",
    "            cv_pbar.update(1)\n",
    "    \n",
    "    # Compute overall CV statistics\n",
    "    if cv_results['fold_results']:\n",
    "        avg_log_likelihood = np.mean([f['avg_log_likelihood'] for f in cv_results['fold_results']])\n",
    "        total_runtime = sum([f['runtime'] for f in cv_results['fold_results']])\n",
    "        \n",
    "        cv_results['summary'] = {\n",
    "            'n_successful_folds': len(cv_results['fold_results']),\n",
    "            'avg_log_likelihood': avg_log_likelihood,\n",
    "            'total_log_likelihood': sum(cv_results['log_likelihoods']),\n",
    "            'total_runtime': total_runtime,\n",
    "            'avg_fold_runtime': total_runtime / len(cv_results['fold_results'])\n",
    "        }\n",
    "        \n",
    "        print(f\"\\n🎯 Cross-Validation Summary:\")\n",
    "        print(f\"   ✅ Successful folds: {cv_results['summary']['n_successful_folds']}\")\n",
    "        print(f\"   📊 Average Log-Likelihood: {avg_log_likelihood:.4f}\")\n",
    "        print(f\"   ⏱️  Total runtime: {total_runtime:.1f}s\")\n",
    "        print(\"-\" * 60)\n",
    "    \n",
    "    return cv_results\n",
    "\n",
    "def plot_cv_results(cv_results, returns):\n",
    "    \"\"\"\n",
    "    Plot cross-validation results with robust error handling\n",
    "    \"\"\"\n",
    "    if not cv_results['fold_results']:\n",
    "        print(\"No results to plot\")\n",
    "        return\n",
    "        \n",
    "    fig, axes = plt.subplots(2, 2, figsize=(15, 10))\n",
    "    \n",
    "    # Plot 1: Prediction vs Actual (first few folds)\n",
    "    ax1 = axes[0, 0]\n",
    "    for i, fold_result in enumerate(cv_results['fold_results'][:5]):  # First 5 folds\n",
    "        try:\n",
    "            predictions = [p['mean'] for p in fold_result['predictions']]\n",
    "            actual = fold_result['actual_values']\n",
    "            ax1.plot(predictions, actual, 'o', alpha=0.6, label=f'Fold {i+1}')\n",
    "        except (KeyError, TypeError) as e:\n",
    "            print(f\"Skipping fold {i+1} in prediction plot: {e}\")\n",
    "            continue\n",
    "    \n",
    "    ax1.plot([-4, 4], [-4, 4], 'k--', alpha=0.5)\n",
    "    ax1.set_xlabel('Predicted Returns')\n",
    "    ax1.set_ylabel('Actual Returns')\n",
    "    ax1.set_title('Predicted vs Actual Returns')\n",
    "    ax1.legend()\n",
    "    ax1.grid(True, alpha=0.3)\n",
    "    \n",
    "    # Plot 2: Log-likelihood over folds\n",
    "    ax2 = axes[0, 1]\n",
    "    try:\n",
    "        log_liks = [f['avg_log_likelihood'] for f in cv_results['fold_results']]\n",
    "        ax2.plot(log_liks, 'b-o')\n",
    "        ax2.set_xlabel('Fold')\n",
    "        ax2.set_ylabel('Average Log-Likelihood')\n",
    "        ax2.set_title('Predictive Log-Likelihood by Fold')\n",
    "        ax2.grid(True, alpha=0.3)\n",
    "    except KeyError:\n",
    "        ax2.text(0.5, 0.5, 'Log-likelihood data not available', \n",
    "                ha='center', va='center', transform=ax2.transAxes)\n",
    "    \n",
    "    # Plot 3: Parameter evolution (if available)\n",
    "    ax3 = axes[1, 0]\n",
    "    try:\n",
    "        if 'parameters' in cv_results and cv_results['parameters']:\n",
    "            mus = [p['mu'] for p in cv_results['parameters']]\n",
    "            phis = [p['phi'] for p in cv_results['parameters']]\n",
    "            sigmas = [p['sigma_x'] for p in cv_results['parameters']]\n",
    "            \n",
    "            ax3.plot(mus, label='μ (mean log-vol)', alpha=0.7)\n",
    "            ax3.plot(phis, label='φ (persistence)', alpha=0.7)\n",
    "            ax3.plot(sigmas, label='σ (volatility of vol)', alpha=0.7)\n",
    "            ax3.set_xlabel('Fold')\n",
    "            ax3.set_ylabel('Parameter Value')\n",
    "            ax3.set_title('Parameter Evolution Across Folds')\n",
    "            ax3.legend()\n",
    "            ax3.grid(True, alpha=0.3)\n",
    "        else:\n",
    "            ax3.text(0.5, 0.5, 'Parameter evolution not available\\n(using fixed parameters)', \n",
    "                    ha='center', va='center', transform=ax3.transAxes)\n",
    "    except (KeyError, TypeError):\n",
    "        ax3.text(0.5, 0.5, 'Parameter data not available', \n",
    "                ha='center', va='center', transform=ax3.transAxes)\n",
    "    \n",
    "    # Plot 4: Prediction intervals for one fold\n",
    "    ax4 = axes[1, 1]\n",
    "    if cv_results['fold_results']:\n",
    "        try:\n",
    "            fold_result = cv_results['fold_results'][0]  # Use first fold\n",
    "            predictions = fold_result['predictions']\n",
    "            actual = fold_result['actual_values']\n",
    "            \n",
    "            means = [p['mean'] for p in predictions]\n",
    "            \n",
    "            # Check if quantiles are available\n",
    "            if 'q05' in predictions[0] and 'q95' in predictions[0]:\n",
    "                q05 = [p['q05'] for p in predictions]\n",
    "                q95 = [p['q95'] for p in predictions]\n",
    "                \n",
    "                x = range(len(means))\n",
    "                ax4.fill_between(x, q05, q95, alpha=0.3, label='90% Prediction Interval')\n",
    "            \n",
    "            ax4.plot(range(len(means)), means, 'b-', label='Predicted Mean')\n",
    "            ax4.plot(range(len(actual)), actual, 'ro-', label='Actual Values')\n",
    "            ax4.set_xlabel('Time Step')\n",
    "            ax4.set_ylabel('Returns')\n",
    "            ax4.set_title(f'Prediction Intervals (Fold 1)')\n",
    "            ax4.legend()\n",
    "            ax4.grid(True, alpha=0.3)\n",
    "        except (KeyError, IndexError, TypeError) as e:\n",
    "            ax4.text(0.5, 0.5, f'Prediction interval plot not available\\n{str(e)}', \n",
    "                    ha='center', va='center', transform=ax4.transAxes)\n",
    "    \n",
    "    plt.tight_layout()\n",
    "    plt.show()\n",
    "\n",
    "# Example usage\n",
    "if __name__ == \"__main__\":\n",
    "    print(\"🚀 Starting Stochastic Volatility Cross-Validation Pipeline\")\n",
    "    \n",
    "    # Load data\n",
    "    data = fetch_sp500_data()\n",
    "    returns = data['Returns']\n",
    "    \n",
    "    print(\"\\n\" + \"=\"*60)\n",
    "    print(\"METHOD 1: Simplified Cross-Validation (Fixed Parameters)\")\n",
    "    print(\"=\"*60)\n",
    "    \n",
    "    # Run simplified cross-validation first\n",
    "    simple_cv_results = simple_sv_cross_validation(\n",
    "        returns=returns,\n",
    "        min_train_size=50,\n",
    "        step_size=10,\n",
    "        n_future_steps=1\n",
    "    )\n",
    "    \n",
    "    # Plot simple results\n",
    "    if simple_cv_results['fold_results']:\n",
    "        plot_cv_results(simple_cv_results, returns)\n",
    "    \n",
    "    print(\"\\n\" + \"=\"*60)\n",
    "    print(\"METHOD 2: Full Cross-Validation (Parameter Estimation)\")\n",
    "    print(\"=\"*60)\n",
    "    \n",
    "    # Run full cross-validation with parameter estimation\n",
    "    try:\n",
    "        cv_results = leave_future_out_cv(\n",
    "            returns=returns,\n",
    "            min_train_size=50,\n",
    "            step_size=10,\n",
    "            n_future_steps=1,\n",
    "            n_particles=200,    # Reduced for speed\n",
    "            n_iter=200,         # Reduced iterations\n",
    "            n_burn=50           # Shorter burn-in\n",
    "        )\n",
    "        \n",
    "        # Plot results\n",
    "        if cv_results['fold_results']:\n",
    "            plot_cv_results(cv_results, returns)\n",
    "        \n",
    "    except Exception as e:\n",
    "        print(f\"Full CV failed: {str(e)}\")\n",
    "        print(\"Using simplified method results only.\")\n",
    "    \n",
    "    print(\"\\n🎉 Cross-validation pipeline completed!\")"
   ]
  }
 ],
 "metadata": {
  "kernelspec": {
   "display_name": "diss",
   "language": "python",
   "name": "python3"
  },
  "language_info": {
   "codemirror_mode": {
    "name": "ipython",
    "version": 3
   },
   "file_extension": ".py",
   "mimetype": "text/x-python",
   "name": "python",
   "nbconvert_exporter": "python",
   "pygments_lexer": "ipython3",
   "version": "3.10.16"
  }
 },
 "nbformat": 4,
 "nbformat_minor": 5
}
